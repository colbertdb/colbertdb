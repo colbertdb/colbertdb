{
 "cells": [
  {
   "cell_type": "code",
   "execution_count": null,
   "metadata": {},
   "outputs": [],
   "source": [
    "!pip install pycolbertdb"
   ]
  },
  {
   "cell_type": "code",
   "execution_count": null,
   "metadata": {},
   "outputs": [],
   "source": [
    "!pip install llama-index"
   ]
  },
  {
   "cell_type": "code",
   "execution_count": null,
   "metadata": {},
   "outputs": [],
   "source": [
    "!pip install llama-index-readers-web"
   ]
  },
  {
   "cell_type": "code",
   "execution_count": null,
   "metadata": {},
   "outputs": [],
   "source": [
    "!pip install datasets"
   ]
  },
  {
   "cell_type": "code",
   "execution_count": null,
   "metadata": {},
   "outputs": [],
   "source": [
    "!pip install pinecone-client"
   ]
  },
  {
   "cell_type": "code",
   "execution_count": 133,
   "metadata": {},
   "outputs": [
    {
     "data": {
      "text/plain": [
       "True"
      ]
     },
     "execution_count": 133,
     "metadata": {},
     "output_type": "execute_result"
    }
   ],
   "source": [
    "import os\n",
    "from dotenv import load_dotenv\n",
    "from pycolbertdb.client import Colbertdb\n",
    "from datasets import load_dataset\n",
    "from llama_index.core import PromptTemplate\n",
    "from llama_index.llms.openai import OpenAI\n",
    "from llama_index.embeddings.openai import OpenAIEmbedding\n",
    "import random\n",
    "from pinecone import Pinecone\n",
    "\n",
    "load_dotenv()"
   ]
  },
  {
   "cell_type": "code",
   "execution_count": null,
   "metadata": {},
   "outputs": [],
   "source": [
    "dataset = load_dataset(\"bigbio/pubmed_qa\", split=\"validation\")"
   ]
  },
  {
   "cell_type": "code",
   "execution_count": 111,
   "metadata": {},
   "outputs": [],
   "source": [
    "\n",
    "sample = random.sample(list(dataset), 5000)"
   ]
  },
  {
   "cell_type": "code",
   "execution_count": 115,
   "metadata": {},
   "outputs": [
    {
     "data": {
      "text/plain": [
       "15522"
      ]
     },
     "execution_count": 115,
     "metadata": {},
     "output_type": "execute_result"
    }
   ],
   "source": [
    "passages = []\n",
    "for item in sample:\n",
    "    passages.extend(item[\"CONTEXTS\"])"
   ]
  },
  {
   "cell_type": "code",
   "execution_count": 178,
   "metadata": {},
   "outputs": [],
   "source": [
    "url = os.getenv(\"COLBERTDB_URL\")\n",
    "api_key = os.getenv(\"COLBERTDB_API_KEY\")\n",
    "store_name = os.getenv(\"COLBERTDB_STORE_NAME\")\n",
    "openai_key = os.getenv(\"OPENAI_API_KEY\")\n",
    "client = Colbertdb(url, api_key, store_name)\n",
    "openai_client = OpenAI(api_key=openai_key, model=\"gpt-4o\")\n",
    "openai_embedding = OpenAIEmbedding(api_key=openai_key, model=\"text-embedding-3-large\", embed_batch_size=100)\n",
    "pc = Pinecone(api_key=os.getenv(\"PINECONE_API_KEY\"))\n",
    "index = pc.Index(\"pubmed\")"
   ]
  },
  {
   "cell_type": "code",
   "execution_count": null,
   "metadata": {},
   "outputs": [],
   "source": [
    "import uuid\n",
    "documents = []\n",
    "\n",
    "for passage in passages:\n",
    "    documents.append({\"content\": passage, \"metadata\": {}})\n",
    "    embedding = openai_embedding.get_text_embedding(passage)\n",
    "    item = {\"id\": str(uuid.uuid4()), \"values\": embedding, \"metadata\": {\"text\": passage}}\n",
    "    index.upsert([item])\n"
   ]
  },
  {
   "cell_type": "code",
   "execution_count": null,
   "metadata": {},
   "outputs": [],
   "source": [
    "client.create_collection(name=\"pubmed\", documents=documents, options={\"force_create\": True})\n",
    "collection = client.load_collection(\"pubmed\")"
   ]
  },
  {
   "cell_type": "code",
   "execution_count": 175,
   "metadata": {},
   "outputs": [],
   "source": [
    "\n",
    "qa_prompt_tmpl_str = \"\"\"\\\n",
    "---------------------\n",
    "Passages: {passages}\n",
    "---------------------\n",
    "\n",
    "---------------------\n",
    "Question: {question}\n",
    "---------------------\n",
    "\n",
    "---------------------\n",
    "Answer: {answer}\n",
    "---------------------\n",
    "\n",
    "Score the group of passages (as a whole) on its relevance to answering the question given the provided answer.\n",
    "\n",
    "Output: Score from 1 - 10. Only the score. no explanation needed. one score not multiple scores.\n",
    "\"\"\"\n",
    "import re\n",
    "\n",
    "cbd_scores = []\n",
    "pc_scores = []\n",
    "for entry in random.sample(sample, 50):\n",
    "    cbd_content = ''\n",
    "    pc_content = ''\n",
    "    question = entry['QUESTION']\n",
    "    answer = entry['LONG_ANSWER'][0]\n",
    "    cbd_response = collection.search(question, k=3)\n",
    "    pc_response = index.query(vector=openai_embedding.get_text_embedding(question), top_k=3, include_metadata=True)\n",
    "    for document in cbd_response.documents:\n",
    "        cbd_content += document.content + '\\n\\n'\n",
    "    for _document in pc_response['matches']:\n",
    "        pc_content += _document['metadata']['text'] + '\\n\\n'\n",
    "    prompt_template= PromptTemplate(qa_prompt_tmpl_str)\n",
    "    cbd_prompt = prompt_template.format(passages=cbd_content, question=question, answer=answer)\n",
    "    pc_prompt = prompt_template.format(passages=pc_content, question=question, answer=answer)\n",
    "    cbd_score = openai_client.complete(cbd_prompt)\n",
    "    pc_score = openai_client.complete(pc_prompt)\n",
    "    cbd_result = re.sub('[^0-9]','', cbd_score.text)\n",
    "    pc_result = re.sub('[^0-9]','', pc_score.text)\n",
    "    cbd_scores.append(cbd_result)\n",
    "    pc_scores.append(pc_result)\n"
   ]
  },
  {
   "cell_type": "code",
   "execution_count": 176,
   "metadata": {},
   "outputs": [
    {
     "name": "stdout",
     "output_type": "stream",
     "text": [
      "Average score for ColbertDB:  8.54\n",
      "Average score for Pinecone:  9.28\n"
     ]
    }
   ],
   "source": [
    "print(\"Average score for ColbertDB: \", sum([int(score) for score in cbd_scores])/len(cbd_scores))\n",
    "print(\"Average score for Pinecone: \", sum([int(score) for score in pc_scores])/len(pc_scores))"
   ]
  },
  {
   "cell_type": "code",
   "execution_count": null,
   "metadata": {},
   "outputs": [],
   "source": []
  }
 ],
 "metadata": {
  "kernelspec": {
   "display_name": ".venv",
   "language": "python",
   "name": "python3"
  },
  "language_info": {
   "codemirror_mode": {
    "name": "ipython",
    "version": 3
   },
   "file_extension": ".py",
   "mimetype": "text/x-python",
   "name": "python",
   "nbconvert_exporter": "python",
   "pygments_lexer": "ipython3",
   "version": "3.12.3"
  }
 },
 "nbformat": 4,
 "nbformat_minor": 2
}
