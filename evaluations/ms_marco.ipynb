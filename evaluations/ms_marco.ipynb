{
 "cells": [
  {
   "cell_type": "code",
   "execution_count": 1,
   "metadata": {},
   "outputs": [
    {
     "name": "stdout",
     "output_type": "stream",
     "text": [
      "Collecting pycolbertdb\n",
      "  Downloading pycolbertdb-0.2.8-py3-none-any.whl.metadata (4.9 kB)\n",
      "Collecting datamodel-code-generator<0.26.0,>=0.25.6 (from datamodel-code-generator[http]<0.26.0,>=0.25.6->pycolbertdb)\n",
      "  Using cached datamodel_code_generator-0.25.6-py3-none-any.whl.metadata (23 kB)\n",
      "Requirement already satisfied: llama-index-readers-web<0.2.0,>=0.1.14 in /Users/ryansloan/colbertdb/.venv/lib/python3.12/site-packages (from pycolbertdb) (0.1.16)\n",
      "Requirement already satisfied: pytest<9.0.0,>=8.2.0 in /Users/ryansloan/colbertdb/.venv/lib/python3.12/site-packages (from pycolbertdb) (8.2.0)\n",
      "Collecting requests<3.0.0,>=2.32.0 (from pycolbertdb)\n",
      "  Using cached requests-2.32.3-py3-none-any.whl.metadata (4.6 kB)\n",
      "Collecting argcomplete<4.0,>=1.10 (from datamodel-code-generator<0.26.0,>=0.25.6->datamodel-code-generator[http]<0.26.0,>=0.25.6->pycolbertdb)\n",
      "  Using cached argcomplete-3.3.0-py3-none-any.whl.metadata (16 kB)\n",
      "Requirement already satisfied: black>=19.10b0 in /Users/ryansloan/colbertdb/.venv/lib/python3.12/site-packages (from datamodel-code-generator<0.26.0,>=0.25.6->datamodel-code-generator[http]<0.26.0,>=0.25.6->pycolbertdb) (24.4.2)\n",
      "Collecting genson<2.0,>=1.2.1 (from datamodel-code-generator<0.26.0,>=0.25.6->datamodel-code-generator[http]<0.26.0,>=0.25.6->pycolbertdb)\n",
      "  Using cached genson-1.3.0-py3-none-any.whl.metadata (28 kB)\n",
      "Collecting inflect<6.0,>=4.1.0 (from datamodel-code-generator<0.26.0,>=0.25.6->datamodel-code-generator[http]<0.26.0,>=0.25.6->pycolbertdb)\n",
      "  Using cached inflect-5.6.2-py3-none-any.whl.metadata (21 kB)\n",
      "Requirement already satisfied: isort<6.0,>=4.3.21 in /Users/ryansloan/colbertdb/.venv/lib/python3.12/site-packages (from datamodel-code-generator<0.26.0,>=0.25.6->datamodel-code-generator[http]<0.26.0,>=0.25.6->pycolbertdb) (5.13.2)\n",
      "Requirement already satisfied: jinja2<4.0,>=2.10.1 in /Users/ryansloan/colbertdb/.venv/lib/python3.12/site-packages (from datamodel-code-generator<0.26.0,>=0.25.6->datamodel-code-generator[http]<0.26.0,>=0.25.6->pycolbertdb) (3.1.4)\n",
      "Requirement already satisfied: packaging in /Users/ryansloan/colbertdb/.venv/lib/python3.12/site-packages (from datamodel-code-generator<0.26.0,>=0.25.6->datamodel-code-generator[http]<0.26.0,>=0.25.6->pycolbertdb) (24.0)\n",
      "Requirement already satisfied: pydantic!=2.0.0,!=2.0.1,!=2.4.0,<3.0,>=1.10.0 in /Users/ryansloan/colbertdb/.venv/lib/python3.12/site-packages (from pydantic[email]!=2.0.0,!=2.0.1,!=2.4.0,<3.0,>=1.10.0; python_version >= \"3.12\" and python_version < \"4.0\"->datamodel-code-generator<0.26.0,>=0.25.6->datamodel-code-generator[http]<0.26.0,>=0.25.6->pycolbertdb) (2.7.1)\n",
      "Requirement already satisfied: pyyaml>=6.0.1 in /Users/ryansloan/colbertdb/.venv/lib/python3.12/site-packages (from datamodel-code-generator<0.26.0,>=0.25.6->datamodel-code-generator[http]<0.26.0,>=0.25.6->pycolbertdb) (6.0.1)\n",
      "Requirement already satisfied: httpx in /Users/ryansloan/colbertdb/.venv/lib/python3.12/site-packages (from datamodel-code-generator[http]<0.26.0,>=0.25.6->pycolbertdb) (0.27.0)\n",
      "Requirement already satisfied: aiohttp<4.0.0,>=3.9.1 in /Users/ryansloan/colbertdb/.venv/lib/python3.12/site-packages (from llama-index-readers-web<0.2.0,>=0.1.14->pycolbertdb) (3.9.5)\n",
      "Requirement already satisfied: beautifulsoup4<5.0.0,>=4.12.3 in /Users/ryansloan/colbertdb/.venv/lib/python3.12/site-packages (from llama-index-readers-web<0.2.0,>=0.1.14->pycolbertdb) (4.12.3)\n",
      "Requirement already satisfied: chromedriver-autoinstaller<0.7.0,>=0.6.3 in /Users/ryansloan/colbertdb/.venv/lib/python3.12/site-packages (from llama-index-readers-web<0.2.0,>=0.1.14->pycolbertdb) (0.6.4)\n",
      "Requirement already satisfied: html2text<2021.0.0,>=2020.1.16 in /Users/ryansloan/colbertdb/.venv/lib/python3.12/site-packages (from llama-index-readers-web<0.2.0,>=0.1.14->pycolbertdb) (2020.1.16)\n",
      "Requirement already satisfied: llama-index-core<0.11.0,>=0.10.1 in /Users/ryansloan/colbertdb/.venv/lib/python3.12/site-packages (from llama-index-readers-web<0.2.0,>=0.1.14->pycolbertdb) (0.10.36)\n",
      "Requirement already satisfied: newspaper3k<0.3.0,>=0.2.8 in /Users/ryansloan/colbertdb/.venv/lib/python3.12/site-packages (from llama-index-readers-web<0.2.0,>=0.1.14->pycolbertdb) (0.2.8)\n",
      "Requirement already satisfied: playwright<2.0,>=1.30 in /Users/ryansloan/colbertdb/.venv/lib/python3.12/site-packages (from llama-index-readers-web<0.2.0,>=0.1.14->pycolbertdb) (1.44.0)\n",
      "Requirement already satisfied: selenium<5.0.0,>=4.17.2 in /Users/ryansloan/colbertdb/.venv/lib/python3.12/site-packages (from llama-index-readers-web<0.2.0,>=0.1.14->pycolbertdb) (4.21.0)\n",
      "Requirement already satisfied: spider-client<0.0.12,>=0.0.11 in /Users/ryansloan/colbertdb/.venv/lib/python3.12/site-packages (from llama-index-readers-web<0.2.0,>=0.1.14->pycolbertdb) (0.0.11)\n",
      "Requirement already satisfied: urllib3>=1.1.0 in /Users/ryansloan/colbertdb/.venv/lib/python3.12/site-packages (from llama-index-readers-web<0.2.0,>=0.1.14->pycolbertdb) (2.2.1)\n",
      "Requirement already satisfied: iniconfig in /Users/ryansloan/colbertdb/.venv/lib/python3.12/site-packages (from pytest<9.0.0,>=8.2.0->pycolbertdb) (2.0.0)\n",
      "Requirement already satisfied: pluggy<2.0,>=1.5 in /Users/ryansloan/colbertdb/.venv/lib/python3.12/site-packages (from pytest<9.0.0,>=8.2.0->pycolbertdb) (1.5.0)\n",
      "Requirement already satisfied: charset-normalizer<4,>=2 in /Users/ryansloan/colbertdb/.venv/lib/python3.12/site-packages (from requests<3.0.0,>=2.32.0->pycolbertdb) (3.3.2)\n",
      "Requirement already satisfied: idna<4,>=2.5 in /Users/ryansloan/colbertdb/.venv/lib/python3.12/site-packages (from requests<3.0.0,>=2.32.0->pycolbertdb) (3.7)\n",
      "Requirement already satisfied: certifi>=2017.4.17 in /Users/ryansloan/colbertdb/.venv/lib/python3.12/site-packages (from requests<3.0.0,>=2.32.0->pycolbertdb) (2024.2.2)\n",
      "Requirement already satisfied: aiosignal>=1.1.2 in /Users/ryansloan/colbertdb/.venv/lib/python3.12/site-packages (from aiohttp<4.0.0,>=3.9.1->llama-index-readers-web<0.2.0,>=0.1.14->pycolbertdb) (1.3.1)\n",
      "Requirement already satisfied: attrs>=17.3.0 in /Users/ryansloan/colbertdb/.venv/lib/python3.12/site-packages (from aiohttp<4.0.0,>=3.9.1->llama-index-readers-web<0.2.0,>=0.1.14->pycolbertdb) (23.2.0)\n",
      "Requirement already satisfied: frozenlist>=1.1.1 in /Users/ryansloan/colbertdb/.venv/lib/python3.12/site-packages (from aiohttp<4.0.0,>=3.9.1->llama-index-readers-web<0.2.0,>=0.1.14->pycolbertdb) (1.4.1)\n",
      "Requirement already satisfied: multidict<7.0,>=4.5 in /Users/ryansloan/colbertdb/.venv/lib/python3.12/site-packages (from aiohttp<4.0.0,>=3.9.1->llama-index-readers-web<0.2.0,>=0.1.14->pycolbertdb) (6.0.5)\n",
      "Requirement already satisfied: yarl<2.0,>=1.0 in /Users/ryansloan/colbertdb/.venv/lib/python3.12/site-packages (from aiohttp<4.0.0,>=3.9.1->llama-index-readers-web<0.2.0,>=0.1.14->pycolbertdb) (1.9.4)\n",
      "Requirement already satisfied: soupsieve>1.2 in /Users/ryansloan/colbertdb/.venv/lib/python3.12/site-packages (from beautifulsoup4<5.0.0,>=4.12.3->llama-index-readers-web<0.2.0,>=0.1.14->pycolbertdb) (2.5)\n",
      "Requirement already satisfied: click>=8.0.0 in /Users/ryansloan/colbertdb/.venv/lib/python3.12/site-packages (from black>=19.10b0->datamodel-code-generator<0.26.0,>=0.25.6->datamodel-code-generator[http]<0.26.0,>=0.25.6->pycolbertdb) (8.1.7)\n",
      "Requirement already satisfied: mypy-extensions>=0.4.3 in /Users/ryansloan/colbertdb/.venv/lib/python3.12/site-packages (from black>=19.10b0->datamodel-code-generator<0.26.0,>=0.25.6->datamodel-code-generator[http]<0.26.0,>=0.25.6->pycolbertdb) (1.0.0)\n",
      "Requirement already satisfied: pathspec>=0.9.0 in /Users/ryansloan/colbertdb/.venv/lib/python3.12/site-packages (from black>=19.10b0->datamodel-code-generator<0.26.0,>=0.25.6->datamodel-code-generator[http]<0.26.0,>=0.25.6->pycolbertdb) (0.12.1)\n",
      "Requirement already satisfied: platformdirs>=2 in /Users/ryansloan/colbertdb/.venv/lib/python3.12/site-packages (from black>=19.10b0->datamodel-code-generator<0.26.0,>=0.25.6->datamodel-code-generator[http]<0.26.0,>=0.25.6->pycolbertdb) (4.2.2)\n",
      "Requirement already satisfied: MarkupSafe>=2.0 in /Users/ryansloan/colbertdb/.venv/lib/python3.12/site-packages (from jinja2<4.0,>=2.10.1->datamodel-code-generator<0.26.0,>=0.25.6->datamodel-code-generator[http]<0.26.0,>=0.25.6->pycolbertdb) (2.1.5)\n",
      "Requirement already satisfied: SQLAlchemy>=1.4.49 in /Users/ryansloan/colbertdb/.venv/lib/python3.12/site-packages (from SQLAlchemy[asyncio]>=1.4.49->llama-index-core<0.11.0,>=0.10.1->llama-index-readers-web<0.2.0,>=0.1.14->pycolbertdb) (2.0.30)\n",
      "Requirement already satisfied: dataclasses-json in /Users/ryansloan/colbertdb/.venv/lib/python3.12/site-packages (from llama-index-core<0.11.0,>=0.10.1->llama-index-readers-web<0.2.0,>=0.1.14->pycolbertdb) (0.6.6)\n",
      "Requirement already satisfied: deprecated>=1.2.9.3 in /Users/ryansloan/colbertdb/.venv/lib/python3.12/site-packages (from llama-index-core<0.11.0,>=0.10.1->llama-index-readers-web<0.2.0,>=0.1.14->pycolbertdb) (1.2.14)\n",
      "Requirement already satisfied: dirtyjson<2.0.0,>=1.0.8 in /Users/ryansloan/colbertdb/.venv/lib/python3.12/site-packages (from llama-index-core<0.11.0,>=0.10.1->llama-index-readers-web<0.2.0,>=0.1.14->pycolbertdb) (1.0.8)\n",
      "Requirement already satisfied: fsspec>=2023.5.0 in /Users/ryansloan/colbertdb/.venv/lib/python3.12/site-packages (from llama-index-core<0.11.0,>=0.10.1->llama-index-readers-web<0.2.0,>=0.1.14->pycolbertdb) (2024.3.1)\n",
      "Requirement already satisfied: llamaindex-py-client<0.2.0,>=0.1.18 in /Users/ryansloan/colbertdb/.venv/lib/python3.12/site-packages (from llama-index-core<0.11.0,>=0.10.1->llama-index-readers-web<0.2.0,>=0.1.14->pycolbertdb) (0.1.19)\n",
      "Requirement already satisfied: nest-asyncio<2.0.0,>=1.5.8 in /Users/ryansloan/colbertdb/.venv/lib/python3.12/site-packages (from llama-index-core<0.11.0,>=0.10.1->llama-index-readers-web<0.2.0,>=0.1.14->pycolbertdb) (1.6.0)\n",
      "Requirement already satisfied: networkx>=3.0 in /Users/ryansloan/colbertdb/.venv/lib/python3.12/site-packages (from llama-index-core<0.11.0,>=0.10.1->llama-index-readers-web<0.2.0,>=0.1.14->pycolbertdb) (3.3)\n",
      "Requirement already satisfied: nltk<4.0.0,>=3.8.1 in /Users/ryansloan/colbertdb/.venv/lib/python3.12/site-packages (from llama-index-core<0.11.0,>=0.10.1->llama-index-readers-web<0.2.0,>=0.1.14->pycolbertdb) (3.8.1)\n",
      "Requirement already satisfied: numpy in /Users/ryansloan/colbertdb/.venv/lib/python3.12/site-packages (from llama-index-core<0.11.0,>=0.10.1->llama-index-readers-web<0.2.0,>=0.1.14->pycolbertdb) (1.26.4)\n",
      "Requirement already satisfied: openai>=1.1.0 in /Users/ryansloan/colbertdb/.venv/lib/python3.12/site-packages (from llama-index-core<0.11.0,>=0.10.1->llama-index-readers-web<0.2.0,>=0.1.14->pycolbertdb) (1.30.1)\n",
      "Requirement already satisfied: pandas in /Users/ryansloan/colbertdb/.venv/lib/python3.12/site-packages (from llama-index-core<0.11.0,>=0.10.1->llama-index-readers-web<0.2.0,>=0.1.14->pycolbertdb) (2.2.2)\n",
      "Requirement already satisfied: pillow>=9.0.0 in /Users/ryansloan/colbertdb/.venv/lib/python3.12/site-packages (from llama-index-core<0.11.0,>=0.10.1->llama-index-readers-web<0.2.0,>=0.1.14->pycolbertdb) (10.3.0)\n",
      "Requirement already satisfied: tenacity<9.0.0,>=8.2.0 in /Users/ryansloan/colbertdb/.venv/lib/python3.12/site-packages (from llama-index-core<0.11.0,>=0.10.1->llama-index-readers-web<0.2.0,>=0.1.14->pycolbertdb) (8.3.0)\n",
      "Requirement already satisfied: tiktoken>=0.3.3 in /Users/ryansloan/colbertdb/.venv/lib/python3.12/site-packages (from llama-index-core<0.11.0,>=0.10.1->llama-index-readers-web<0.2.0,>=0.1.14->pycolbertdb) (0.7.0)\n",
      "Requirement already satisfied: tqdm<5.0.0,>=4.66.1 in /Users/ryansloan/colbertdb/.venv/lib/python3.12/site-packages (from llama-index-core<0.11.0,>=0.10.1->llama-index-readers-web<0.2.0,>=0.1.14->pycolbertdb) (4.66.4)\n",
      "Requirement already satisfied: typing-extensions>=4.5.0 in /Users/ryansloan/colbertdb/.venv/lib/python3.12/site-packages (from llama-index-core<0.11.0,>=0.10.1->llama-index-readers-web<0.2.0,>=0.1.14->pycolbertdb) (4.11.0)\n",
      "Requirement already satisfied: typing-inspect>=0.8.0 in /Users/ryansloan/colbertdb/.venv/lib/python3.12/site-packages (from llama-index-core<0.11.0,>=0.10.1->llama-index-readers-web<0.2.0,>=0.1.14->pycolbertdb) (0.9.0)\n",
      "Requirement already satisfied: wrapt in /Users/ryansloan/colbertdb/.venv/lib/python3.12/site-packages (from llama-index-core<0.11.0,>=0.10.1->llama-index-readers-web<0.2.0,>=0.1.14->pycolbertdb) (1.16.0)\n",
      "Requirement already satisfied: cssselect>=0.9.2 in /Users/ryansloan/colbertdb/.venv/lib/python3.12/site-packages (from newspaper3k<0.3.0,>=0.2.8->llama-index-readers-web<0.2.0,>=0.1.14->pycolbertdb) (1.2.0)\n",
      "Requirement already satisfied: lxml>=3.6.0 in /Users/ryansloan/colbertdb/.venv/lib/python3.12/site-packages (from newspaper3k<0.3.0,>=0.2.8->llama-index-readers-web<0.2.0,>=0.1.14->pycolbertdb) (5.2.2)\n",
      "Requirement already satisfied: feedparser>=5.2.1 in /Users/ryansloan/colbertdb/.venv/lib/python3.12/site-packages (from newspaper3k<0.3.0,>=0.2.8->llama-index-readers-web<0.2.0,>=0.1.14->pycolbertdb) (6.0.11)\n",
      "Requirement already satisfied: tldextract>=2.0.1 in /Users/ryansloan/colbertdb/.venv/lib/python3.12/site-packages (from newspaper3k<0.3.0,>=0.2.8->llama-index-readers-web<0.2.0,>=0.1.14->pycolbertdb) (5.1.2)\n",
      "Requirement already satisfied: feedfinder2>=0.0.4 in /Users/ryansloan/colbertdb/.venv/lib/python3.12/site-packages (from newspaper3k<0.3.0,>=0.2.8->llama-index-readers-web<0.2.0,>=0.1.14->pycolbertdb) (0.0.4)\n",
      "Requirement already satisfied: jieba3k>=0.35.1 in /Users/ryansloan/colbertdb/.venv/lib/python3.12/site-packages (from newspaper3k<0.3.0,>=0.2.8->llama-index-readers-web<0.2.0,>=0.1.14->pycolbertdb) (0.35.1)\n",
      "Requirement already satisfied: python-dateutil>=2.5.3 in /Users/ryansloan/colbertdb/.venv/lib/python3.12/site-packages (from newspaper3k<0.3.0,>=0.2.8->llama-index-readers-web<0.2.0,>=0.1.14->pycolbertdb) (2.9.0.post0)\n",
      "Requirement already satisfied: tinysegmenter==0.3 in /Users/ryansloan/colbertdb/.venv/lib/python3.12/site-packages (from newspaper3k<0.3.0,>=0.2.8->llama-index-readers-web<0.2.0,>=0.1.14->pycolbertdb) (0.3)\n",
      "Requirement already satisfied: greenlet==3.0.3 in /Users/ryansloan/colbertdb/.venv/lib/python3.12/site-packages (from playwright<2.0,>=1.30->llama-index-readers-web<0.2.0,>=0.1.14->pycolbertdb) (3.0.3)\n",
      "Requirement already satisfied: pyee==11.1.0 in /Users/ryansloan/colbertdb/.venv/lib/python3.12/site-packages (from playwright<2.0,>=1.30->llama-index-readers-web<0.2.0,>=0.1.14->pycolbertdb) (11.1.0)\n",
      "Requirement already satisfied: annotated-types>=0.4.0 in /Users/ryansloan/colbertdb/.venv/lib/python3.12/site-packages (from pydantic!=2.0.0,!=2.0.1,!=2.4.0,<3.0,>=1.10.0->pydantic[email]!=2.0.0,!=2.0.1,!=2.4.0,<3.0,>=1.10.0; python_version >= \"3.12\" and python_version < \"4.0\"->datamodel-code-generator<0.26.0,>=0.25.6->datamodel-code-generator[http]<0.26.0,>=0.25.6->pycolbertdb) (0.6.0)\n",
      "Requirement already satisfied: pydantic-core==2.18.2 in /Users/ryansloan/colbertdb/.venv/lib/python3.12/site-packages (from pydantic!=2.0.0,!=2.0.1,!=2.4.0,<3.0,>=1.10.0->pydantic[email]!=2.0.0,!=2.0.1,!=2.4.0,<3.0,>=1.10.0; python_version >= \"3.12\" and python_version < \"4.0\"->datamodel-code-generator<0.26.0,>=0.25.6->datamodel-code-generator[http]<0.26.0,>=0.25.6->pycolbertdb) (2.18.2)\n",
      "Requirement already satisfied: email-validator>=2.0.0 in /Users/ryansloan/colbertdb/.venv/lib/python3.12/site-packages (from pydantic[email]!=2.0.0,!=2.0.1,!=2.4.0,<3.0,>=1.10.0; python_version >= \"3.12\" and python_version < \"4.0\"->datamodel-code-generator<0.26.0,>=0.25.6->datamodel-code-generator[http]<0.26.0,>=0.25.6->pycolbertdb) (2.1.1)\n",
      "Requirement already satisfied: trio~=0.17 in /Users/ryansloan/colbertdb/.venv/lib/python3.12/site-packages (from selenium<5.0.0,>=4.17.2->llama-index-readers-web<0.2.0,>=0.1.14->pycolbertdb) (0.25.1)\n",
      "Requirement already satisfied: trio-websocket~=0.9 in /Users/ryansloan/colbertdb/.venv/lib/python3.12/site-packages (from selenium<5.0.0,>=4.17.2->llama-index-readers-web<0.2.0,>=0.1.14->pycolbertdb) (0.11.1)\n",
      "Requirement already satisfied: anyio in /Users/ryansloan/colbertdb/.venv/lib/python3.12/site-packages (from httpx->datamodel-code-generator[http]<0.26.0,>=0.25.6->pycolbertdb) (4.3.0)\n",
      "Requirement already satisfied: httpcore==1.* in /Users/ryansloan/colbertdb/.venv/lib/python3.12/site-packages (from httpx->datamodel-code-generator[http]<0.26.0,>=0.25.6->pycolbertdb) (1.0.5)\n",
      "Requirement already satisfied: sniffio in /Users/ryansloan/colbertdb/.venv/lib/python3.12/site-packages (from httpx->datamodel-code-generator[http]<0.26.0,>=0.25.6->pycolbertdb) (1.3.1)\n",
      "Requirement already satisfied: h11<0.15,>=0.13 in /Users/ryansloan/colbertdb/.venv/lib/python3.12/site-packages (from httpcore==1.*->httpx->datamodel-code-generator[http]<0.26.0,>=0.25.6->pycolbertdb) (0.14.0)\n",
      "Requirement already satisfied: dnspython>=2.0.0 in /Users/ryansloan/colbertdb/.venv/lib/python3.12/site-packages (from email-validator>=2.0.0->pydantic[email]!=2.0.0,!=2.0.1,!=2.4.0,<3.0,>=1.10.0; python_version >= \"3.12\" and python_version < \"4.0\"->datamodel-code-generator<0.26.0,>=0.25.6->datamodel-code-generator[http]<0.26.0,>=0.25.6->pycolbertdb) (2.6.1)\n",
      "Requirement already satisfied: six in /Users/ryansloan/colbertdb/.venv/lib/python3.12/site-packages (from feedfinder2>=0.0.4->newspaper3k<0.3.0,>=0.2.8->llama-index-readers-web<0.2.0,>=0.1.14->pycolbertdb) (1.16.0)\n",
      "Requirement already satisfied: sgmllib3k in /Users/ryansloan/colbertdb/.venv/lib/python3.12/site-packages (from feedparser>=5.2.1->newspaper3k<0.3.0,>=0.2.8->llama-index-readers-web<0.2.0,>=0.1.14->pycolbertdb) (1.0.0)\n",
      "Requirement already satisfied: joblib in /Users/ryansloan/colbertdb/.venv/lib/python3.12/site-packages (from nltk<4.0.0,>=3.8.1->llama-index-core<0.11.0,>=0.10.1->llama-index-readers-web<0.2.0,>=0.1.14->pycolbertdb) (1.4.2)\n",
      "Requirement already satisfied: regex>=2021.8.3 in /Users/ryansloan/colbertdb/.venv/lib/python3.12/site-packages (from nltk<4.0.0,>=3.8.1->llama-index-core<0.11.0,>=0.10.1->llama-index-readers-web<0.2.0,>=0.1.14->pycolbertdb) (2024.5.15)\n",
      "Requirement already satisfied: distro<2,>=1.7.0 in /Users/ryansloan/colbertdb/.venv/lib/python3.12/site-packages (from openai>=1.1.0->llama-index-core<0.11.0,>=0.10.1->llama-index-readers-web<0.2.0,>=0.1.14->pycolbertdb) (1.9.0)\n",
      "Requirement already satisfied: requests-file>=1.4 in /Users/ryansloan/colbertdb/.venv/lib/python3.12/site-packages (from tldextract>=2.0.1->newspaper3k<0.3.0,>=0.2.8->llama-index-readers-web<0.2.0,>=0.1.14->pycolbertdb) (2.0.0)\n",
      "Requirement already satisfied: filelock>=3.0.8 in /Users/ryansloan/colbertdb/.venv/lib/python3.12/site-packages (from tldextract>=2.0.1->newspaper3k<0.3.0,>=0.2.8->llama-index-readers-web<0.2.0,>=0.1.14->pycolbertdb) (3.14.0)\n",
      "Requirement already satisfied: sortedcontainers in /Users/ryansloan/colbertdb/.venv/lib/python3.12/site-packages (from trio~=0.17->selenium<5.0.0,>=4.17.2->llama-index-readers-web<0.2.0,>=0.1.14->pycolbertdb) (2.4.0)\n",
      "Requirement already satisfied: outcome in /Users/ryansloan/colbertdb/.venv/lib/python3.12/site-packages (from trio~=0.17->selenium<5.0.0,>=4.17.2->llama-index-readers-web<0.2.0,>=0.1.14->pycolbertdb) (1.3.0.post0)\n",
      "Requirement already satisfied: wsproto>=0.14 in /Users/ryansloan/colbertdb/.venv/lib/python3.12/site-packages (from trio-websocket~=0.9->selenium<5.0.0,>=4.17.2->llama-index-readers-web<0.2.0,>=0.1.14->pycolbertdb) (1.2.0)\n",
      "Requirement already satisfied: pysocks!=1.5.7,<2.0,>=1.5.6 in /Users/ryansloan/colbertdb/.venv/lib/python3.12/site-packages (from urllib3[socks]<3,>=1.26->selenium<5.0.0,>=4.17.2->llama-index-readers-web<0.2.0,>=0.1.14->pycolbertdb) (1.7.1)\n",
      "Requirement already satisfied: marshmallow<4.0.0,>=3.18.0 in /Users/ryansloan/colbertdb/.venv/lib/python3.12/site-packages (from dataclasses-json->llama-index-core<0.11.0,>=0.10.1->llama-index-readers-web<0.2.0,>=0.1.14->pycolbertdb) (3.21.2)\n",
      "Requirement already satisfied: pytz>=2020.1 in /Users/ryansloan/colbertdb/.venv/lib/python3.12/site-packages (from pandas->llama-index-core<0.11.0,>=0.10.1->llama-index-readers-web<0.2.0,>=0.1.14->pycolbertdb) (2024.1)\n",
      "Requirement already satisfied: tzdata>=2022.7 in /Users/ryansloan/colbertdb/.venv/lib/python3.12/site-packages (from pandas->llama-index-core<0.11.0,>=0.10.1->llama-index-readers-web<0.2.0,>=0.1.14->pycolbertdb) (2024.1)\n",
      "Downloading pycolbertdb-0.2.8-py3-none-any.whl (7.3 kB)\n",
      "Using cached datamodel_code_generator-0.25.6-py3-none-any.whl (108 kB)\n",
      "Using cached requests-2.32.3-py3-none-any.whl (64 kB)\n",
      "Using cached argcomplete-3.3.0-py3-none-any.whl (42 kB)\n",
      "Using cached genson-1.3.0-py3-none-any.whl (21 kB)\n",
      "Using cached inflect-5.6.2-py3-none-any.whl (33 kB)\n",
      "Installing collected packages: genson, requests, inflect, argcomplete, datamodel-code-generator, pycolbertdb\n",
      "  Attempting uninstall: requests\n",
      "    Found existing installation: requests 2.31.0\n",
      "    Uninstalling requests-2.31.0:\n",
      "      Successfully uninstalled requests-2.31.0\n",
      "Successfully installed argcomplete-3.3.0 datamodel-code-generator-0.25.6 genson-1.3.0 inflect-5.6.2 pycolbertdb-0.2.8 requests-2.32.3\n"
     ]
    }
   ],
   "source": [
    "!pip install pycolbertdb"
   ]
  },
  {
   "cell_type": "code",
   "execution_count": 2,
   "metadata": {},
   "outputs": [
    {
     "name": "stdout",
     "output_type": "stream",
     "text": [
      "Requirement already satisfied: llama-index in /Users/ryansloan/colbertdb/.venv/lib/python3.12/site-packages (0.10.37)\n",
      "Requirement already satisfied: llama-index-agent-openai<0.3.0,>=0.1.4 in /Users/ryansloan/colbertdb/.venv/lib/python3.12/site-packages (from llama-index) (0.2.5)\n",
      "Requirement already satisfied: llama-index-cli<0.2.0,>=0.1.2 in /Users/ryansloan/colbertdb/.venv/lib/python3.12/site-packages (from llama-index) (0.1.12)\n",
      "Requirement already satisfied: llama-index-core<0.11.0,>=0.10.35 in /Users/ryansloan/colbertdb/.venv/lib/python3.12/site-packages (from llama-index) (0.10.36)\n",
      "Requirement already satisfied: llama-index-embeddings-openai<0.2.0,>=0.1.5 in /Users/ryansloan/colbertdb/.venv/lib/python3.12/site-packages (from llama-index) (0.1.9)\n",
      "Requirement already satisfied: llama-index-indices-managed-llama-cloud<0.2.0,>=0.1.2 in /Users/ryansloan/colbertdb/.venv/lib/python3.12/site-packages (from llama-index) (0.1.6)\n",
      "Requirement already satisfied: llama-index-legacy<0.10.0,>=0.9.48 in /Users/ryansloan/colbertdb/.venv/lib/python3.12/site-packages (from llama-index) (0.9.48)\n",
      "Requirement already satisfied: llama-index-llms-openai<0.2.0,>=0.1.13 in /Users/ryansloan/colbertdb/.venv/lib/python3.12/site-packages (from llama-index) (0.1.19)\n",
      "Requirement already satisfied: llama-index-multi-modal-llms-openai<0.2.0,>=0.1.3 in /Users/ryansloan/colbertdb/.venv/lib/python3.12/site-packages (from llama-index) (0.1.6)\n",
      "Requirement already satisfied: llama-index-program-openai<0.2.0,>=0.1.3 in /Users/ryansloan/colbertdb/.venv/lib/python3.12/site-packages (from llama-index) (0.1.6)\n",
      "Requirement already satisfied: llama-index-question-gen-openai<0.2.0,>=0.1.2 in /Users/ryansloan/colbertdb/.venv/lib/python3.12/site-packages (from llama-index) (0.1.3)\n",
      "Requirement already satisfied: llama-index-readers-file<0.2.0,>=0.1.4 in /Users/ryansloan/colbertdb/.venv/lib/python3.12/site-packages (from llama-index) (0.1.22)\n",
      "Requirement already satisfied: llama-index-readers-llama-parse<0.2.0,>=0.1.2 in /Users/ryansloan/colbertdb/.venv/lib/python3.12/site-packages (from llama-index) (0.1.4)\n",
      "Requirement already satisfied: openai>=1.14.0 in /Users/ryansloan/colbertdb/.venv/lib/python3.12/site-packages (from llama-index-agent-openai<0.3.0,>=0.1.4->llama-index) (1.30.1)\n",
      "Requirement already satisfied: PyYAML>=6.0.1 in /Users/ryansloan/colbertdb/.venv/lib/python3.12/site-packages (from llama-index-core<0.11.0,>=0.10.35->llama-index) (6.0.1)\n",
      "Requirement already satisfied: SQLAlchemy>=1.4.49 in /Users/ryansloan/colbertdb/.venv/lib/python3.12/site-packages (from SQLAlchemy[asyncio]>=1.4.49->llama-index-core<0.11.0,>=0.10.35->llama-index) (2.0.30)\n",
      "Requirement already satisfied: aiohttp<4.0.0,>=3.8.6 in /Users/ryansloan/colbertdb/.venv/lib/python3.12/site-packages (from llama-index-core<0.11.0,>=0.10.35->llama-index) (3.9.5)\n",
      "Requirement already satisfied: dataclasses-json in /Users/ryansloan/colbertdb/.venv/lib/python3.12/site-packages (from llama-index-core<0.11.0,>=0.10.35->llama-index) (0.6.6)\n",
      "Requirement already satisfied: deprecated>=1.2.9.3 in /Users/ryansloan/colbertdb/.venv/lib/python3.12/site-packages (from llama-index-core<0.11.0,>=0.10.35->llama-index) (1.2.14)\n",
      "Requirement already satisfied: dirtyjson<2.0.0,>=1.0.8 in /Users/ryansloan/colbertdb/.venv/lib/python3.12/site-packages (from llama-index-core<0.11.0,>=0.10.35->llama-index) (1.0.8)\n",
      "Requirement already satisfied: fsspec>=2023.5.0 in /Users/ryansloan/colbertdb/.venv/lib/python3.12/site-packages (from llama-index-core<0.11.0,>=0.10.35->llama-index) (2024.3.1)\n",
      "Requirement already satisfied: httpx in /Users/ryansloan/colbertdb/.venv/lib/python3.12/site-packages (from llama-index-core<0.11.0,>=0.10.35->llama-index) (0.27.0)\n",
      "Requirement already satisfied: llamaindex-py-client<0.2.0,>=0.1.18 in /Users/ryansloan/colbertdb/.venv/lib/python3.12/site-packages (from llama-index-core<0.11.0,>=0.10.35->llama-index) (0.1.19)\n",
      "Requirement already satisfied: nest-asyncio<2.0.0,>=1.5.8 in /Users/ryansloan/colbertdb/.venv/lib/python3.12/site-packages (from llama-index-core<0.11.0,>=0.10.35->llama-index) (1.6.0)\n",
      "Requirement already satisfied: networkx>=3.0 in /Users/ryansloan/colbertdb/.venv/lib/python3.12/site-packages (from llama-index-core<0.11.0,>=0.10.35->llama-index) (3.3)\n",
      "Requirement already satisfied: nltk<4.0.0,>=3.8.1 in /Users/ryansloan/colbertdb/.venv/lib/python3.12/site-packages (from llama-index-core<0.11.0,>=0.10.35->llama-index) (3.8.1)\n",
      "Requirement already satisfied: numpy in /Users/ryansloan/colbertdb/.venv/lib/python3.12/site-packages (from llama-index-core<0.11.0,>=0.10.35->llama-index) (1.26.4)\n",
      "Requirement already satisfied: pandas in /Users/ryansloan/colbertdb/.venv/lib/python3.12/site-packages (from llama-index-core<0.11.0,>=0.10.35->llama-index) (2.2.2)\n",
      "Requirement already satisfied: pillow>=9.0.0 in /Users/ryansloan/colbertdb/.venv/lib/python3.12/site-packages (from llama-index-core<0.11.0,>=0.10.35->llama-index) (10.3.0)\n",
      "Requirement already satisfied: requests>=2.31.0 in /Users/ryansloan/colbertdb/.venv/lib/python3.12/site-packages (from llama-index-core<0.11.0,>=0.10.35->llama-index) (2.32.3)\n",
      "Requirement already satisfied: tenacity<9.0.0,>=8.2.0 in /Users/ryansloan/colbertdb/.venv/lib/python3.12/site-packages (from llama-index-core<0.11.0,>=0.10.35->llama-index) (8.3.0)\n",
      "Requirement already satisfied: tiktoken>=0.3.3 in /Users/ryansloan/colbertdb/.venv/lib/python3.12/site-packages (from llama-index-core<0.11.0,>=0.10.35->llama-index) (0.7.0)\n",
      "Requirement already satisfied: tqdm<5.0.0,>=4.66.1 in /Users/ryansloan/colbertdb/.venv/lib/python3.12/site-packages (from llama-index-core<0.11.0,>=0.10.35->llama-index) (4.66.4)\n",
      "Requirement already satisfied: typing-extensions>=4.5.0 in /Users/ryansloan/colbertdb/.venv/lib/python3.12/site-packages (from llama-index-core<0.11.0,>=0.10.35->llama-index) (4.11.0)\n",
      "Requirement already satisfied: typing-inspect>=0.8.0 in /Users/ryansloan/colbertdb/.venv/lib/python3.12/site-packages (from llama-index-core<0.11.0,>=0.10.35->llama-index) (0.9.0)\n",
      "Requirement already satisfied: wrapt in /Users/ryansloan/colbertdb/.venv/lib/python3.12/site-packages (from llama-index-core<0.11.0,>=0.10.35->llama-index) (1.16.0)\n",
      "Requirement already satisfied: beautifulsoup4<5.0.0,>=4.12.3 in /Users/ryansloan/colbertdb/.venv/lib/python3.12/site-packages (from llama-index-readers-file<0.2.0,>=0.1.4->llama-index) (4.12.3)\n",
      "Requirement already satisfied: pypdf<5.0.0,>=4.0.1 in /Users/ryansloan/colbertdb/.venv/lib/python3.12/site-packages (from llama-index-readers-file<0.2.0,>=0.1.4->llama-index) (4.2.0)\n",
      "Requirement already satisfied: striprtf<0.0.27,>=0.0.26 in /Users/ryansloan/colbertdb/.venv/lib/python3.12/site-packages (from llama-index-readers-file<0.2.0,>=0.1.4->llama-index) (0.0.26)\n",
      "Requirement already satisfied: llama-parse<0.5.0,>=0.4.0 in /Users/ryansloan/colbertdb/.venv/lib/python3.12/site-packages (from llama-index-readers-llama-parse<0.2.0,>=0.1.2->llama-index) (0.4.3)\n",
      "Requirement already satisfied: aiosignal>=1.1.2 in /Users/ryansloan/colbertdb/.venv/lib/python3.12/site-packages (from aiohttp<4.0.0,>=3.8.6->llama-index-core<0.11.0,>=0.10.35->llama-index) (1.3.1)\n",
      "Requirement already satisfied: attrs>=17.3.0 in /Users/ryansloan/colbertdb/.venv/lib/python3.12/site-packages (from aiohttp<4.0.0,>=3.8.6->llama-index-core<0.11.0,>=0.10.35->llama-index) (23.2.0)\n",
      "Requirement already satisfied: frozenlist>=1.1.1 in /Users/ryansloan/colbertdb/.venv/lib/python3.12/site-packages (from aiohttp<4.0.0,>=3.8.6->llama-index-core<0.11.0,>=0.10.35->llama-index) (1.4.1)\n",
      "Requirement already satisfied: multidict<7.0,>=4.5 in /Users/ryansloan/colbertdb/.venv/lib/python3.12/site-packages (from aiohttp<4.0.0,>=3.8.6->llama-index-core<0.11.0,>=0.10.35->llama-index) (6.0.5)\n",
      "Requirement already satisfied: yarl<2.0,>=1.0 in /Users/ryansloan/colbertdb/.venv/lib/python3.12/site-packages (from aiohttp<4.0.0,>=3.8.6->llama-index-core<0.11.0,>=0.10.35->llama-index) (1.9.4)\n",
      "Requirement already satisfied: soupsieve>1.2 in /Users/ryansloan/colbertdb/.venv/lib/python3.12/site-packages (from beautifulsoup4<5.0.0,>=4.12.3->llama-index-readers-file<0.2.0,>=0.1.4->llama-index) (2.5)\n",
      "Requirement already satisfied: pydantic>=1.10 in /Users/ryansloan/colbertdb/.venv/lib/python3.12/site-packages (from llamaindex-py-client<0.2.0,>=0.1.18->llama-index-core<0.11.0,>=0.10.35->llama-index) (2.7.1)\n",
      "Requirement already satisfied: anyio in /Users/ryansloan/colbertdb/.venv/lib/python3.12/site-packages (from httpx->llama-index-core<0.11.0,>=0.10.35->llama-index) (4.3.0)\n",
      "Requirement already satisfied: certifi in /Users/ryansloan/colbertdb/.venv/lib/python3.12/site-packages (from httpx->llama-index-core<0.11.0,>=0.10.35->llama-index) (2024.2.2)\n",
      "Requirement already satisfied: httpcore==1.* in /Users/ryansloan/colbertdb/.venv/lib/python3.12/site-packages (from httpx->llama-index-core<0.11.0,>=0.10.35->llama-index) (1.0.5)\n",
      "Requirement already satisfied: idna in /Users/ryansloan/colbertdb/.venv/lib/python3.12/site-packages (from httpx->llama-index-core<0.11.0,>=0.10.35->llama-index) (3.7)\n",
      "Requirement already satisfied: sniffio in /Users/ryansloan/colbertdb/.venv/lib/python3.12/site-packages (from httpx->llama-index-core<0.11.0,>=0.10.35->llama-index) (1.3.1)\n",
      "Requirement already satisfied: h11<0.15,>=0.13 in /Users/ryansloan/colbertdb/.venv/lib/python3.12/site-packages (from httpcore==1.*->httpx->llama-index-core<0.11.0,>=0.10.35->llama-index) (0.14.0)\n",
      "Requirement already satisfied: click in /Users/ryansloan/colbertdb/.venv/lib/python3.12/site-packages (from nltk<4.0.0,>=3.8.1->llama-index-core<0.11.0,>=0.10.35->llama-index) (8.1.7)\n",
      "Requirement already satisfied: joblib in /Users/ryansloan/colbertdb/.venv/lib/python3.12/site-packages (from nltk<4.0.0,>=3.8.1->llama-index-core<0.11.0,>=0.10.35->llama-index) (1.4.2)\n",
      "Requirement already satisfied: regex>=2021.8.3 in /Users/ryansloan/colbertdb/.venv/lib/python3.12/site-packages (from nltk<4.0.0,>=3.8.1->llama-index-core<0.11.0,>=0.10.35->llama-index) (2024.5.15)\n",
      "Requirement already satisfied: distro<2,>=1.7.0 in /Users/ryansloan/colbertdb/.venv/lib/python3.12/site-packages (from openai>=1.14.0->llama-index-agent-openai<0.3.0,>=0.1.4->llama-index) (1.9.0)\n",
      "Requirement already satisfied: charset-normalizer<4,>=2 in /Users/ryansloan/colbertdb/.venv/lib/python3.12/site-packages (from requests>=2.31.0->llama-index-core<0.11.0,>=0.10.35->llama-index) (3.3.2)\n",
      "Requirement already satisfied: urllib3<3,>=1.21.1 in /Users/ryansloan/colbertdb/.venv/lib/python3.12/site-packages (from requests>=2.31.0->llama-index-core<0.11.0,>=0.10.35->llama-index) (2.2.1)\n",
      "Requirement already satisfied: greenlet!=0.4.17 in /Users/ryansloan/colbertdb/.venv/lib/python3.12/site-packages (from SQLAlchemy[asyncio]>=1.4.49->llama-index-core<0.11.0,>=0.10.35->llama-index) (3.0.3)\n",
      "Requirement already satisfied: mypy-extensions>=0.3.0 in /Users/ryansloan/colbertdb/.venv/lib/python3.12/site-packages (from typing-inspect>=0.8.0->llama-index-core<0.11.0,>=0.10.35->llama-index) (1.0.0)\n",
      "Requirement already satisfied: marshmallow<4.0.0,>=3.18.0 in /Users/ryansloan/colbertdb/.venv/lib/python3.12/site-packages (from dataclasses-json->llama-index-core<0.11.0,>=0.10.35->llama-index) (3.21.2)\n",
      "Requirement already satisfied: python-dateutil>=2.8.2 in /Users/ryansloan/colbertdb/.venv/lib/python3.12/site-packages (from pandas->llama-index-core<0.11.0,>=0.10.35->llama-index) (2.9.0.post0)\n",
      "Requirement already satisfied: pytz>=2020.1 in /Users/ryansloan/colbertdb/.venv/lib/python3.12/site-packages (from pandas->llama-index-core<0.11.0,>=0.10.35->llama-index) (2024.1)\n",
      "Requirement already satisfied: tzdata>=2022.7 in /Users/ryansloan/colbertdb/.venv/lib/python3.12/site-packages (from pandas->llama-index-core<0.11.0,>=0.10.35->llama-index) (2024.1)\n",
      "Requirement already satisfied: packaging>=17.0 in /Users/ryansloan/colbertdb/.venv/lib/python3.12/site-packages (from marshmallow<4.0.0,>=3.18.0->dataclasses-json->llama-index-core<0.11.0,>=0.10.35->llama-index) (24.0)\n",
      "Requirement already satisfied: annotated-types>=0.4.0 in /Users/ryansloan/colbertdb/.venv/lib/python3.12/site-packages (from pydantic>=1.10->llamaindex-py-client<0.2.0,>=0.1.18->llama-index-core<0.11.0,>=0.10.35->llama-index) (0.6.0)\n",
      "Requirement already satisfied: pydantic-core==2.18.2 in /Users/ryansloan/colbertdb/.venv/lib/python3.12/site-packages (from pydantic>=1.10->llamaindex-py-client<0.2.0,>=0.1.18->llama-index-core<0.11.0,>=0.10.35->llama-index) (2.18.2)\n",
      "Requirement already satisfied: six>=1.5 in /Users/ryansloan/colbertdb/.venv/lib/python3.12/site-packages (from python-dateutil>=2.8.2->pandas->llama-index-core<0.11.0,>=0.10.35->llama-index) (1.16.0)\n"
     ]
    }
   ],
   "source": [
    "!pip install llama-index"
   ]
  },
  {
   "cell_type": "code",
   "execution_count": 3,
   "metadata": {},
   "outputs": [
    {
     "name": "stdout",
     "output_type": "stream",
     "text": [
      "Requirement already satisfied: llama-index-readers-web in /Users/ryansloan/colbertdb/.venv/lib/python3.12/site-packages (0.1.16)\n",
      "Requirement already satisfied: aiohttp<4.0.0,>=3.9.1 in /Users/ryansloan/colbertdb/.venv/lib/python3.12/site-packages (from llama-index-readers-web) (3.9.5)\n",
      "Requirement already satisfied: beautifulsoup4<5.0.0,>=4.12.3 in /Users/ryansloan/colbertdb/.venv/lib/python3.12/site-packages (from llama-index-readers-web) (4.12.3)\n",
      "Requirement already satisfied: chromedriver-autoinstaller<0.7.0,>=0.6.3 in /Users/ryansloan/colbertdb/.venv/lib/python3.12/site-packages (from llama-index-readers-web) (0.6.4)\n",
      "Requirement already satisfied: html2text<2021.0.0,>=2020.1.16 in /Users/ryansloan/colbertdb/.venv/lib/python3.12/site-packages (from llama-index-readers-web) (2020.1.16)\n",
      "Requirement already satisfied: llama-index-core<0.11.0,>=0.10.1 in /Users/ryansloan/colbertdb/.venv/lib/python3.12/site-packages (from llama-index-readers-web) (0.10.36)\n",
      "Requirement already satisfied: newspaper3k<0.3.0,>=0.2.8 in /Users/ryansloan/colbertdb/.venv/lib/python3.12/site-packages (from llama-index-readers-web) (0.2.8)\n",
      "Requirement already satisfied: playwright<2.0,>=1.30 in /Users/ryansloan/colbertdb/.venv/lib/python3.12/site-packages (from llama-index-readers-web) (1.44.0)\n",
      "Requirement already satisfied: requests<3.0.0,>=2.31.0 in /Users/ryansloan/colbertdb/.venv/lib/python3.12/site-packages (from llama-index-readers-web) (2.32.3)\n",
      "Requirement already satisfied: selenium<5.0.0,>=4.17.2 in /Users/ryansloan/colbertdb/.venv/lib/python3.12/site-packages (from llama-index-readers-web) (4.21.0)\n",
      "Requirement already satisfied: spider-client<0.0.12,>=0.0.11 in /Users/ryansloan/colbertdb/.venv/lib/python3.12/site-packages (from llama-index-readers-web) (0.0.11)\n",
      "Requirement already satisfied: urllib3>=1.1.0 in /Users/ryansloan/colbertdb/.venv/lib/python3.12/site-packages (from llama-index-readers-web) (2.2.1)\n",
      "Requirement already satisfied: aiosignal>=1.1.2 in /Users/ryansloan/colbertdb/.venv/lib/python3.12/site-packages (from aiohttp<4.0.0,>=3.9.1->llama-index-readers-web) (1.3.1)\n",
      "Requirement already satisfied: attrs>=17.3.0 in /Users/ryansloan/colbertdb/.venv/lib/python3.12/site-packages (from aiohttp<4.0.0,>=3.9.1->llama-index-readers-web) (23.2.0)\n",
      "Requirement already satisfied: frozenlist>=1.1.1 in /Users/ryansloan/colbertdb/.venv/lib/python3.12/site-packages (from aiohttp<4.0.0,>=3.9.1->llama-index-readers-web) (1.4.1)\n",
      "Requirement already satisfied: multidict<7.0,>=4.5 in /Users/ryansloan/colbertdb/.venv/lib/python3.12/site-packages (from aiohttp<4.0.0,>=3.9.1->llama-index-readers-web) (6.0.5)\n",
      "Requirement already satisfied: yarl<2.0,>=1.0 in /Users/ryansloan/colbertdb/.venv/lib/python3.12/site-packages (from aiohttp<4.0.0,>=3.9.1->llama-index-readers-web) (1.9.4)\n",
      "Requirement already satisfied: soupsieve>1.2 in /Users/ryansloan/colbertdb/.venv/lib/python3.12/site-packages (from beautifulsoup4<5.0.0,>=4.12.3->llama-index-readers-web) (2.5)\n",
      "Requirement already satisfied: packaging>=23.1 in /Users/ryansloan/colbertdb/.venv/lib/python3.12/site-packages (from chromedriver-autoinstaller<0.7.0,>=0.6.3->llama-index-readers-web) (24.0)\n",
      "Requirement already satisfied: PyYAML>=6.0.1 in /Users/ryansloan/colbertdb/.venv/lib/python3.12/site-packages (from llama-index-core<0.11.0,>=0.10.1->llama-index-readers-web) (6.0.1)\n",
      "Requirement already satisfied: SQLAlchemy>=1.4.49 in /Users/ryansloan/colbertdb/.venv/lib/python3.12/site-packages (from SQLAlchemy[asyncio]>=1.4.49->llama-index-core<0.11.0,>=0.10.1->llama-index-readers-web) (2.0.30)\n",
      "Requirement already satisfied: dataclasses-json in /Users/ryansloan/colbertdb/.venv/lib/python3.12/site-packages (from llama-index-core<0.11.0,>=0.10.1->llama-index-readers-web) (0.6.6)\n",
      "Requirement already satisfied: deprecated>=1.2.9.3 in /Users/ryansloan/colbertdb/.venv/lib/python3.12/site-packages (from llama-index-core<0.11.0,>=0.10.1->llama-index-readers-web) (1.2.14)\n",
      "Requirement already satisfied: dirtyjson<2.0.0,>=1.0.8 in /Users/ryansloan/colbertdb/.venv/lib/python3.12/site-packages (from llama-index-core<0.11.0,>=0.10.1->llama-index-readers-web) (1.0.8)\n",
      "Requirement already satisfied: fsspec>=2023.5.0 in /Users/ryansloan/colbertdb/.venv/lib/python3.12/site-packages (from llama-index-core<0.11.0,>=0.10.1->llama-index-readers-web) (2024.3.1)\n",
      "Requirement already satisfied: httpx in /Users/ryansloan/colbertdb/.venv/lib/python3.12/site-packages (from llama-index-core<0.11.0,>=0.10.1->llama-index-readers-web) (0.27.0)\n",
      "Requirement already satisfied: llamaindex-py-client<0.2.0,>=0.1.18 in /Users/ryansloan/colbertdb/.venv/lib/python3.12/site-packages (from llama-index-core<0.11.0,>=0.10.1->llama-index-readers-web) (0.1.19)\n",
      "Requirement already satisfied: nest-asyncio<2.0.0,>=1.5.8 in /Users/ryansloan/colbertdb/.venv/lib/python3.12/site-packages (from llama-index-core<0.11.0,>=0.10.1->llama-index-readers-web) (1.6.0)\n",
      "Requirement already satisfied: networkx>=3.0 in /Users/ryansloan/colbertdb/.venv/lib/python3.12/site-packages (from llama-index-core<0.11.0,>=0.10.1->llama-index-readers-web) (3.3)\n",
      "Requirement already satisfied: nltk<4.0.0,>=3.8.1 in /Users/ryansloan/colbertdb/.venv/lib/python3.12/site-packages (from llama-index-core<0.11.0,>=0.10.1->llama-index-readers-web) (3.8.1)\n",
      "Requirement already satisfied: numpy in /Users/ryansloan/colbertdb/.venv/lib/python3.12/site-packages (from llama-index-core<0.11.0,>=0.10.1->llama-index-readers-web) (1.26.4)\n",
      "Requirement already satisfied: openai>=1.1.0 in /Users/ryansloan/colbertdb/.venv/lib/python3.12/site-packages (from llama-index-core<0.11.0,>=0.10.1->llama-index-readers-web) (1.30.1)\n",
      "Requirement already satisfied: pandas in /Users/ryansloan/colbertdb/.venv/lib/python3.12/site-packages (from llama-index-core<0.11.0,>=0.10.1->llama-index-readers-web) (2.2.2)\n",
      "Requirement already satisfied: pillow>=9.0.0 in /Users/ryansloan/colbertdb/.venv/lib/python3.12/site-packages (from llama-index-core<0.11.0,>=0.10.1->llama-index-readers-web) (10.3.0)\n",
      "Requirement already satisfied: tenacity<9.0.0,>=8.2.0 in /Users/ryansloan/colbertdb/.venv/lib/python3.12/site-packages (from llama-index-core<0.11.0,>=0.10.1->llama-index-readers-web) (8.3.0)\n",
      "Requirement already satisfied: tiktoken>=0.3.3 in /Users/ryansloan/colbertdb/.venv/lib/python3.12/site-packages (from llama-index-core<0.11.0,>=0.10.1->llama-index-readers-web) (0.7.0)\n",
      "Requirement already satisfied: tqdm<5.0.0,>=4.66.1 in /Users/ryansloan/colbertdb/.venv/lib/python3.12/site-packages (from llama-index-core<0.11.0,>=0.10.1->llama-index-readers-web) (4.66.4)\n",
      "Requirement already satisfied: typing-extensions>=4.5.0 in /Users/ryansloan/colbertdb/.venv/lib/python3.12/site-packages (from llama-index-core<0.11.0,>=0.10.1->llama-index-readers-web) (4.11.0)\n",
      "Requirement already satisfied: typing-inspect>=0.8.0 in /Users/ryansloan/colbertdb/.venv/lib/python3.12/site-packages (from llama-index-core<0.11.0,>=0.10.1->llama-index-readers-web) (0.9.0)\n",
      "Requirement already satisfied: wrapt in /Users/ryansloan/colbertdb/.venv/lib/python3.12/site-packages (from llama-index-core<0.11.0,>=0.10.1->llama-index-readers-web) (1.16.0)\n",
      "Requirement already satisfied: cssselect>=0.9.2 in /Users/ryansloan/colbertdb/.venv/lib/python3.12/site-packages (from newspaper3k<0.3.0,>=0.2.8->llama-index-readers-web) (1.2.0)\n",
      "Requirement already satisfied: lxml>=3.6.0 in /Users/ryansloan/colbertdb/.venv/lib/python3.12/site-packages (from newspaper3k<0.3.0,>=0.2.8->llama-index-readers-web) (5.2.2)\n",
      "Requirement already satisfied: feedparser>=5.2.1 in /Users/ryansloan/colbertdb/.venv/lib/python3.12/site-packages (from newspaper3k<0.3.0,>=0.2.8->llama-index-readers-web) (6.0.11)\n",
      "Requirement already satisfied: tldextract>=2.0.1 in /Users/ryansloan/colbertdb/.venv/lib/python3.12/site-packages (from newspaper3k<0.3.0,>=0.2.8->llama-index-readers-web) (5.1.2)\n",
      "Requirement already satisfied: feedfinder2>=0.0.4 in /Users/ryansloan/colbertdb/.venv/lib/python3.12/site-packages (from newspaper3k<0.3.0,>=0.2.8->llama-index-readers-web) (0.0.4)\n",
      "Requirement already satisfied: jieba3k>=0.35.1 in /Users/ryansloan/colbertdb/.venv/lib/python3.12/site-packages (from newspaper3k<0.3.0,>=0.2.8->llama-index-readers-web) (0.35.1)\n",
      "Requirement already satisfied: python-dateutil>=2.5.3 in /Users/ryansloan/colbertdb/.venv/lib/python3.12/site-packages (from newspaper3k<0.3.0,>=0.2.8->llama-index-readers-web) (2.9.0.post0)\n",
      "Requirement already satisfied: tinysegmenter==0.3 in /Users/ryansloan/colbertdb/.venv/lib/python3.12/site-packages (from newspaper3k<0.3.0,>=0.2.8->llama-index-readers-web) (0.3)\n",
      "Requirement already satisfied: greenlet==3.0.3 in /Users/ryansloan/colbertdb/.venv/lib/python3.12/site-packages (from playwright<2.0,>=1.30->llama-index-readers-web) (3.0.3)\n",
      "Requirement already satisfied: pyee==11.1.0 in /Users/ryansloan/colbertdb/.venv/lib/python3.12/site-packages (from playwright<2.0,>=1.30->llama-index-readers-web) (11.1.0)\n",
      "Requirement already satisfied: charset-normalizer<4,>=2 in /Users/ryansloan/colbertdb/.venv/lib/python3.12/site-packages (from requests<3.0.0,>=2.31.0->llama-index-readers-web) (3.3.2)\n",
      "Requirement already satisfied: idna<4,>=2.5 in /Users/ryansloan/colbertdb/.venv/lib/python3.12/site-packages (from requests<3.0.0,>=2.31.0->llama-index-readers-web) (3.7)\n",
      "Requirement already satisfied: certifi>=2017.4.17 in /Users/ryansloan/colbertdb/.venv/lib/python3.12/site-packages (from requests<3.0.0,>=2.31.0->llama-index-readers-web) (2024.2.2)\n",
      "Requirement already satisfied: trio~=0.17 in /Users/ryansloan/colbertdb/.venv/lib/python3.12/site-packages (from selenium<5.0.0,>=4.17.2->llama-index-readers-web) (0.25.1)\n",
      "Requirement already satisfied: trio-websocket~=0.9 in /Users/ryansloan/colbertdb/.venv/lib/python3.12/site-packages (from selenium<5.0.0,>=4.17.2->llama-index-readers-web) (0.11.1)\n",
      "Requirement already satisfied: six in /Users/ryansloan/colbertdb/.venv/lib/python3.12/site-packages (from feedfinder2>=0.0.4->newspaper3k<0.3.0,>=0.2.8->llama-index-readers-web) (1.16.0)\n",
      "Requirement already satisfied: sgmllib3k in /Users/ryansloan/colbertdb/.venv/lib/python3.12/site-packages (from feedparser>=5.2.1->newspaper3k<0.3.0,>=0.2.8->llama-index-readers-web) (1.0.0)\n",
      "Requirement already satisfied: pydantic>=1.10 in /Users/ryansloan/colbertdb/.venv/lib/python3.12/site-packages (from llamaindex-py-client<0.2.0,>=0.1.18->llama-index-core<0.11.0,>=0.10.1->llama-index-readers-web) (2.7.1)\n",
      "Requirement already satisfied: anyio in /Users/ryansloan/colbertdb/.venv/lib/python3.12/site-packages (from httpx->llama-index-core<0.11.0,>=0.10.1->llama-index-readers-web) (4.3.0)\n",
      "Requirement already satisfied: httpcore==1.* in /Users/ryansloan/colbertdb/.venv/lib/python3.12/site-packages (from httpx->llama-index-core<0.11.0,>=0.10.1->llama-index-readers-web) (1.0.5)\n",
      "Requirement already satisfied: sniffio in /Users/ryansloan/colbertdb/.venv/lib/python3.12/site-packages (from httpx->llama-index-core<0.11.0,>=0.10.1->llama-index-readers-web) (1.3.1)\n",
      "Requirement already satisfied: h11<0.15,>=0.13 in /Users/ryansloan/colbertdb/.venv/lib/python3.12/site-packages (from httpcore==1.*->httpx->llama-index-core<0.11.0,>=0.10.1->llama-index-readers-web) (0.14.0)\n",
      "Requirement already satisfied: click in /Users/ryansloan/colbertdb/.venv/lib/python3.12/site-packages (from nltk<4.0.0,>=3.8.1->llama-index-core<0.11.0,>=0.10.1->llama-index-readers-web) (8.1.7)\n",
      "Requirement already satisfied: joblib in /Users/ryansloan/colbertdb/.venv/lib/python3.12/site-packages (from nltk<4.0.0,>=3.8.1->llama-index-core<0.11.0,>=0.10.1->llama-index-readers-web) (1.4.2)\n",
      "Requirement already satisfied: regex>=2021.8.3 in /Users/ryansloan/colbertdb/.venv/lib/python3.12/site-packages (from nltk<4.0.0,>=3.8.1->llama-index-core<0.11.0,>=0.10.1->llama-index-readers-web) (2024.5.15)\n",
      "Requirement already satisfied: distro<2,>=1.7.0 in /Users/ryansloan/colbertdb/.venv/lib/python3.12/site-packages (from openai>=1.1.0->llama-index-core<0.11.0,>=0.10.1->llama-index-readers-web) (1.9.0)\n",
      "Requirement already satisfied: requests-file>=1.4 in /Users/ryansloan/colbertdb/.venv/lib/python3.12/site-packages (from tldextract>=2.0.1->newspaper3k<0.3.0,>=0.2.8->llama-index-readers-web) (2.0.0)\n",
      "Requirement already satisfied: filelock>=3.0.8 in /Users/ryansloan/colbertdb/.venv/lib/python3.12/site-packages (from tldextract>=2.0.1->newspaper3k<0.3.0,>=0.2.8->llama-index-readers-web) (3.14.0)\n",
      "Requirement already satisfied: sortedcontainers in /Users/ryansloan/colbertdb/.venv/lib/python3.12/site-packages (from trio~=0.17->selenium<5.0.0,>=4.17.2->llama-index-readers-web) (2.4.0)\n",
      "Requirement already satisfied: outcome in /Users/ryansloan/colbertdb/.venv/lib/python3.12/site-packages (from trio~=0.17->selenium<5.0.0,>=4.17.2->llama-index-readers-web) (1.3.0.post0)\n",
      "Requirement already satisfied: wsproto>=0.14 in /Users/ryansloan/colbertdb/.venv/lib/python3.12/site-packages (from trio-websocket~=0.9->selenium<5.0.0,>=4.17.2->llama-index-readers-web) (1.2.0)\n",
      "Requirement already satisfied: mypy-extensions>=0.3.0 in /Users/ryansloan/colbertdb/.venv/lib/python3.12/site-packages (from typing-inspect>=0.8.0->llama-index-core<0.11.0,>=0.10.1->llama-index-readers-web) (1.0.0)\n",
      "Requirement already satisfied: pysocks!=1.5.7,<2.0,>=1.5.6 in /Users/ryansloan/colbertdb/.venv/lib/python3.12/site-packages (from urllib3[socks]<3,>=1.26->selenium<5.0.0,>=4.17.2->llama-index-readers-web) (1.7.1)\n",
      "Requirement already satisfied: marshmallow<4.0.0,>=3.18.0 in /Users/ryansloan/colbertdb/.venv/lib/python3.12/site-packages (from dataclasses-json->llama-index-core<0.11.0,>=0.10.1->llama-index-readers-web) (3.21.2)\n",
      "Requirement already satisfied: pytz>=2020.1 in /Users/ryansloan/colbertdb/.venv/lib/python3.12/site-packages (from pandas->llama-index-core<0.11.0,>=0.10.1->llama-index-readers-web) (2024.1)\n",
      "Requirement already satisfied: tzdata>=2022.7 in /Users/ryansloan/colbertdb/.venv/lib/python3.12/site-packages (from pandas->llama-index-core<0.11.0,>=0.10.1->llama-index-readers-web) (2024.1)\n",
      "Requirement already satisfied: annotated-types>=0.4.0 in /Users/ryansloan/colbertdb/.venv/lib/python3.12/site-packages (from pydantic>=1.10->llamaindex-py-client<0.2.0,>=0.1.18->llama-index-core<0.11.0,>=0.10.1->llama-index-readers-web) (0.6.0)\n",
      "Requirement already satisfied: pydantic-core==2.18.2 in /Users/ryansloan/colbertdb/.venv/lib/python3.12/site-packages (from pydantic>=1.10->llamaindex-py-client<0.2.0,>=0.1.18->llama-index-core<0.11.0,>=0.10.1->llama-index-readers-web) (2.18.2)\n"
     ]
    }
   ],
   "source": [
    "!pip install llama-index-readers-web"
   ]
  },
  {
   "cell_type": "code",
   "execution_count": 4,
   "metadata": {},
   "outputs": [
    {
     "name": "stdout",
     "output_type": "stream",
     "text": [
      "Requirement already satisfied: datasets in /Users/ryansloan/colbertdb/.venv/lib/python3.12/site-packages (2.19.1)\n",
      "Requirement already satisfied: filelock in /Users/ryansloan/colbertdb/.venv/lib/python3.12/site-packages (from datasets) (3.14.0)\n",
      "Requirement already satisfied: numpy>=1.17 in /Users/ryansloan/colbertdb/.venv/lib/python3.12/site-packages (from datasets) (1.26.4)\n",
      "Requirement already satisfied: pyarrow>=12.0.0 in /Users/ryansloan/colbertdb/.venv/lib/python3.12/site-packages (from datasets) (16.1.0)\n",
      "Requirement already satisfied: pyarrow-hotfix in /Users/ryansloan/colbertdb/.venv/lib/python3.12/site-packages (from datasets) (0.6)\n",
      "Requirement already satisfied: dill<0.3.9,>=0.3.0 in /Users/ryansloan/colbertdb/.venv/lib/python3.12/site-packages (from datasets) (0.3.8)\n",
      "Requirement already satisfied: pandas in /Users/ryansloan/colbertdb/.venv/lib/python3.12/site-packages (from datasets) (2.2.2)\n",
      "Requirement already satisfied: requests>=2.19.0 in /Users/ryansloan/colbertdb/.venv/lib/python3.12/site-packages (from datasets) (2.32.3)\n",
      "Requirement already satisfied: tqdm>=4.62.1 in /Users/ryansloan/colbertdb/.venv/lib/python3.12/site-packages (from datasets) (4.66.4)\n",
      "Requirement already satisfied: xxhash in /Users/ryansloan/colbertdb/.venv/lib/python3.12/site-packages (from datasets) (3.4.1)\n",
      "Requirement already satisfied: multiprocess in /Users/ryansloan/colbertdb/.venv/lib/python3.12/site-packages (from datasets) (0.70.16)\n",
      "Requirement already satisfied: fsspec<=2024.3.1,>=2023.1.0 in /Users/ryansloan/colbertdb/.venv/lib/python3.12/site-packages (from fsspec[http]<=2024.3.1,>=2023.1.0->datasets) (2024.3.1)\n",
      "Requirement already satisfied: aiohttp in /Users/ryansloan/colbertdb/.venv/lib/python3.12/site-packages (from datasets) (3.9.5)\n",
      "Requirement already satisfied: huggingface-hub>=0.21.2 in /Users/ryansloan/colbertdb/.venv/lib/python3.12/site-packages (from datasets) (0.23.0)\n",
      "Requirement already satisfied: packaging in /Users/ryansloan/colbertdb/.venv/lib/python3.12/site-packages (from datasets) (24.0)\n",
      "Requirement already satisfied: pyyaml>=5.1 in /Users/ryansloan/colbertdb/.venv/lib/python3.12/site-packages (from datasets) (6.0.1)\n",
      "Requirement already satisfied: aiosignal>=1.1.2 in /Users/ryansloan/colbertdb/.venv/lib/python3.12/site-packages (from aiohttp->datasets) (1.3.1)\n",
      "Requirement already satisfied: attrs>=17.3.0 in /Users/ryansloan/colbertdb/.venv/lib/python3.12/site-packages (from aiohttp->datasets) (23.2.0)\n",
      "Requirement already satisfied: frozenlist>=1.1.1 in /Users/ryansloan/colbertdb/.venv/lib/python3.12/site-packages (from aiohttp->datasets) (1.4.1)\n",
      "Requirement already satisfied: multidict<7.0,>=4.5 in /Users/ryansloan/colbertdb/.venv/lib/python3.12/site-packages (from aiohttp->datasets) (6.0.5)\n",
      "Requirement already satisfied: yarl<2.0,>=1.0 in /Users/ryansloan/colbertdb/.venv/lib/python3.12/site-packages (from aiohttp->datasets) (1.9.4)\n",
      "Requirement already satisfied: typing-extensions>=3.7.4.3 in /Users/ryansloan/colbertdb/.venv/lib/python3.12/site-packages (from huggingface-hub>=0.21.2->datasets) (4.11.0)\n",
      "Requirement already satisfied: charset-normalizer<4,>=2 in /Users/ryansloan/colbertdb/.venv/lib/python3.12/site-packages (from requests>=2.19.0->datasets) (3.3.2)\n",
      "Requirement already satisfied: idna<4,>=2.5 in /Users/ryansloan/colbertdb/.venv/lib/python3.12/site-packages (from requests>=2.19.0->datasets) (3.7)\n",
      "Requirement already satisfied: urllib3<3,>=1.21.1 in /Users/ryansloan/colbertdb/.venv/lib/python3.12/site-packages (from requests>=2.19.0->datasets) (2.2.1)\n",
      "Requirement already satisfied: certifi>=2017.4.17 in /Users/ryansloan/colbertdb/.venv/lib/python3.12/site-packages (from requests>=2.19.0->datasets) (2024.2.2)\n",
      "Requirement already satisfied: python-dateutil>=2.8.2 in /Users/ryansloan/colbertdb/.venv/lib/python3.12/site-packages (from pandas->datasets) (2.9.0.post0)\n",
      "Requirement already satisfied: pytz>=2020.1 in /Users/ryansloan/colbertdb/.venv/lib/python3.12/site-packages (from pandas->datasets) (2024.1)\n",
      "Requirement already satisfied: tzdata>=2022.7 in /Users/ryansloan/colbertdb/.venv/lib/python3.12/site-packages (from pandas->datasets) (2024.1)\n",
      "Requirement already satisfied: six>=1.5 in /Users/ryansloan/colbertdb/.venv/lib/python3.12/site-packages (from python-dateutil>=2.8.2->pandas->datasets) (1.16.0)\n"
     ]
    }
   ],
   "source": [
    "!pip install datasets"
   ]
  },
  {
   "cell_type": "code",
   "execution_count": 126,
   "metadata": {},
   "outputs": [
    {
     "name": "stdout",
     "output_type": "stream",
     "text": [
      "Collecting pinecone-client\n",
      "  Downloading pinecone_client-4.1.1-py3-none-any.whl.metadata (16 kB)\n",
      "Requirement already satisfied: certifi>=2019.11.17 in /Users/ryansloan/colbertdb/.venv/lib/python3.12/site-packages (from pinecone-client) (2024.2.2)\n",
      "Collecting pinecone-plugin-interface<0.0.8,>=0.0.7 (from pinecone-client)\n",
      "  Downloading pinecone_plugin_interface-0.0.7-py3-none-any.whl.metadata (1.2 kB)\n",
      "Requirement already satisfied: tqdm>=4.64.1 in /Users/ryansloan/colbertdb/.venv/lib/python3.12/site-packages (from pinecone-client) (4.66.4)\n",
      "Requirement already satisfied: typing-extensions>=3.7.4 in /Users/ryansloan/colbertdb/.venv/lib/python3.12/site-packages (from pinecone-client) (4.11.0)\n",
      "Requirement already satisfied: urllib3>=1.26.5 in /Users/ryansloan/colbertdb/.venv/lib/python3.12/site-packages (from pinecone-client) (2.2.1)\n",
      "Downloading pinecone_client-4.1.1-py3-none-any.whl (216 kB)\n",
      "\u001b[2K   \u001b[38;2;114;156;31m━━━━━━━━━━━━━━━━━━━━━━━━━━━━━━━━━━━━━━━━\u001b[0m \u001b[32m216.2/216.2 kB\u001b[0m \u001b[31m3.5 MB/s\u001b[0m eta \u001b[36m0:00:00\u001b[0m[31m3.7 MB/s\u001b[0m eta \u001b[36m0:00:01\u001b[0m\n",
      "\u001b[?25hDownloading pinecone_plugin_interface-0.0.7-py3-none-any.whl (6.2 kB)\n",
      "Installing collected packages: pinecone-plugin-interface, pinecone-client\n",
      "Successfully installed pinecone-client-4.1.1 pinecone-plugin-interface-0.0.7\n"
     ]
    }
   ],
   "source": [
    "!pip install pinecone-client"
   ]
  },
  {
   "cell_type": "code",
   "execution_count": 133,
   "metadata": {},
   "outputs": [
    {
     "data": {
      "text/plain": [
       "True"
      ]
     },
     "execution_count": 133,
     "metadata": {},
     "output_type": "execute_result"
    }
   ],
   "source": [
    "import os\n",
    "from dotenv import load_dotenv\n",
    "from pycolbertdb.client import Colbertdb\n",
    "from datasets import load_dataset\n",
    "from llama_index.core import PromptTemplate\n",
    "from llama_index.llms.openai import OpenAI\n",
    "from llama_index.embeddings.openai import OpenAIEmbedding\n",
    "import random\n",
    "from pinecone import Pinecone\n",
    "\n",
    "load_dotenv()"
   ]
  },
  {
   "cell_type": "code",
   "execution_count": 107,
   "metadata": {},
   "outputs": [
    {
     "name": "stderr",
     "output_type": "stream",
     "text": [
      "/Users/ryansloan/colbertdb/.venv/lib/python3.12/site-packages/datasets/load.py:1486: FutureWarning: The repository for bigbio/pubmed_qa contains custom code which must be executed to correctly load the dataset. You can inspect the repository content at https://hf.co/datasets/bigbio/pubmed_qa\n",
      "You can avoid this message in future by passing the argument `trust_remote_code=True`.\n",
      "Passing `trust_remote_code=True` will be mandatory to load this dataset from the next major release of `datasets`.\n",
      "  warnings.warn(\n"
     ]
    }
   ],
   "source": [
    "dataset = load_dataset(\"bigbio/pubmed_qa\", split=\"validation\")"
   ]
  },
  {
   "cell_type": "code",
   "execution_count": 111,
   "metadata": {},
   "outputs": [],
   "source": [
    "\n",
    "sample = random.sample(list(dataset), 5000)"
   ]
  },
  {
   "cell_type": "code",
   "execution_count": 115,
   "metadata": {},
   "outputs": [
    {
     "data": {
      "text/plain": [
       "15522"
      ]
     },
     "execution_count": 115,
     "metadata": {},
     "output_type": "execute_result"
    }
   ],
   "source": [
    "passages = []\n",
    "for item in sample:\n",
    "    passages.extend(item[\"CONTEXTS\"])"
   ]
  },
  {
   "cell_type": "code",
   "execution_count": 178,
   "metadata": {},
   "outputs": [],
   "source": [
    "url = os.getenv(\"COLBERTDB_URL\")\n",
    "api_key = os.getenv(\"COLBERTDB_API_KEY\")\n",
    "store_name = os.getenv(\"COLBERTDB_STORE_NAME\")\n",
    "openai_key = os.getenv(\"OPENAI_API_KEY\")\n",
    "client = Colbertdb(url, api_key, store_name)\n",
    "openai_client = OpenAI(api_key=openai_key, model=\"gpt-4o\")\n",
    "openai_embedding = OpenAIEmbedding(api_key=openai_key, model=\"text-embedding-3-large\", embed_batch_size=100)\n",
    "pc = Pinecone(api_key=\"b5b8e0c2-b037-45a2-9ef5-6520fc47c4cc\")\n",
    "index = pc.Index(\"pubmed\")"
   ]
  },
  {
   "cell_type": "code",
   "execution_count": 179,
   "metadata": {},
   "outputs": [],
   "source": [
    "import uuid\n",
    "documents = []\n",
    "# embeddings = openai_embedding.get_text_embedding_batch(passages)\n",
    "# for passage in passages[15541:]:\n",
    "#     documents.append({\"content\": passage, \"metadata\": {}})\n",
    "#     embedding = openai_embedding.get_text_embedding(passage)\n",
    "#     item = {\"id\": str(uuid.uuid4()), \"values\": embedding, \"metadata\": {\"text\": passage}}\n",
    "#     index.upsert([item])\n"
   ]
  },
  {
   "cell_type": "code",
   "execution_count": null,
   "metadata": {},
   "outputs": [],
   "source": [
    "client.create_collection(name=\"pubmed\", documents=documents, options={\"force_create\": True})\n",
    "collection = client.load_collection(\"pubmed\")"
   ]
  },
  {
   "cell_type": "code",
   "execution_count": 175,
   "metadata": {},
   "outputs": [],
   "source": [
    "\n",
    "qa_prompt_tmpl_str = \"\"\"\\\n",
    "---------------------\n",
    "Passages: {passages}\n",
    "---------------------\n",
    "\n",
    "---------------------\n",
    "Question: {question}\n",
    "---------------------\n",
    "\n",
    "---------------------\n",
    "Answer: {answer}\n",
    "---------------------\n",
    "\n",
    "Score the group of passages (as a whole) on its relevance to answering the question given the provided answer.\n",
    "\n",
    "Output: Score from 1 - 10. Only the score. no explanation needed. one score not multiple scores.\n",
    "\"\"\"\n",
    "import re\n",
    "\n",
    "cbd_scores = []\n",
    "pc_scores = []\n",
    "for entry in random.sample(sample, 50):\n",
    "    cbd_content = ''\n",
    "    pc_content = ''\n",
    "    question = entry['QUESTION']\n",
    "    answer = entry['LONG_ANSWER'][0]\n",
    "    cbd_response = collection.search(question, k=3)\n",
    "    pc_response = index.query(vector=openai_embedding.get_text_embedding(question), top_k=3, include_metadata=True)\n",
    "    for document in cbd_response.documents:\n",
    "        cbd_content += document.content + '\\n\\n'\n",
    "    for _document in pc_response['matches']:\n",
    "        pc_content += _document['metadata']['text'] + '\\n\\n'\n",
    "    prompt_template= PromptTemplate(qa_prompt_tmpl_str)\n",
    "    cbd_prompt = prompt_template.format(passages=cbd_content, question=question, answer=answer)\n",
    "    pc_prompt = prompt_template.format(passages=pc_content, question=question, answer=answer)\n",
    "    cbd_score = openai_client.complete(cbd_prompt)\n",
    "    pc_score = openai_client.complete(pc_prompt)\n",
    "    cbd_result = re.sub('[^0-9]','', cbd_score.text)\n",
    "    pc_result = re.sub('[^0-9]','', pc_score.text)\n",
    "    cbd_scores.append(cbd_result)\n",
    "    pc_scores.append(pc_result)\n"
   ]
  },
  {
   "cell_type": "code",
   "execution_count": 176,
   "metadata": {},
   "outputs": [
    {
     "name": "stdout",
     "output_type": "stream",
     "text": [
      "Average score for ColbertDB:  8.54\n",
      "Average score for Pinecone:  9.28\n"
     ]
    }
   ],
   "source": [
    "print(\"Average score for ColbertDB: \", sum([int(score) for score in cbd_scores])/len(cbd_scores))\n",
    "print(\"Average score for Pinecone: \", sum([int(score) for score in pc_scores])/len(pc_scores))"
   ]
  },
  {
   "cell_type": "code",
   "execution_count": null,
   "metadata": {},
   "outputs": [],
   "source": []
  }
 ],
 "metadata": {
  "kernelspec": {
   "display_name": ".venv",
   "language": "python",
   "name": "python3"
  },
  "language_info": {
   "codemirror_mode": {
    "name": "ipython",
    "version": 3
   },
   "file_extension": ".py",
   "mimetype": "text/x-python",
   "name": "python",
   "nbconvert_exporter": "python",
   "pygments_lexer": "ipython3",
   "version": "3.12.3"
  }
 },
 "nbformat": 4,
 "nbformat_minor": 2
}
