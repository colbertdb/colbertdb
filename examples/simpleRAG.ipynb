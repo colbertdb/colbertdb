{
 "cells": [
  {
   "cell_type": "code",
   "execution_count": null,
   "id": "44cbe9ba-8c7b-4dd5-9159-2ff7a795c9aa",
   "metadata": {
    "collapsed": true,
    "jupyter": {
     "outputs_hidden": true,
     "source_hidden": true
    }
   },
   "outputs": [],
   "source": [
    "!pip install pycolbertdb"
   ]
  },
  {
   "cell_type": "code",
   "execution_count": null,
   "id": "5e6ef4f5-8352-40a4-bf76-ee615b8d4b82",
   "metadata": {
    "collapsed": true,
    "jupyter": {
     "outputs_hidden": true,
     "source_hidden": true
    }
   },
   "outputs": [],
   "source": [
    "!pip install llama-index"
   ]
  },
  {
   "cell_type": "code",
   "execution_count": null,
   "id": "8bc18f1c-4e6c-47e6-ad7c-6a6d0a5cd5f6",
   "metadata": {
    "collapsed": true,
    "jupyter": {
     "outputs_hidden": true,
     "source_hidden": true
    }
   },
   "outputs": [],
   "source": [
    "!pip install llama-index-readers-web"
   ]
  },
  {
   "cell_type": "code",
   "execution_count": 5,
   "id": "8e935d36-275f-4354-ace3-9753f3a85473",
   "metadata": {
    "collapsed": true,
    "jupyter": {
     "outputs_hidden": true,
     "source_hidden": true
    }
   },
   "outputs": [
    {
     "name": "stdout",
     "output_type": "stream",
     "text": [
      "Requirement already satisfied: requests in ./.venv/lib/python3.12/site-packages (2.31.0)\n",
      "Requirement already satisfied: charset-normalizer<4,>=2 in ./.venv/lib/python3.12/site-packages (from requests) (3.3.2)\n",
      "Requirement already satisfied: idna<4,>=2.5 in ./.venv/lib/python3.12/site-packages (from requests) (3.7)\n",
      "Requirement already satisfied: urllib3<3,>=1.21.1 in ./.venv/lib/python3.12/site-packages (from requests) (2.2.1)\n",
      "Requirement already satisfied: certifi>=2017.4.17 in ./.venv/lib/python3.12/site-packages (from requests) (2024.2.2)\n"
     ]
    }
   ],
   "source": [
    "!pip install requests"
   ]
  },
  {
   "cell_type": "code",
   "execution_count": 76,
   "id": "8529af04-1b62-440d-822d-6cc0cc2cc6bd",
   "metadata": {},
   "outputs": [],
   "source": [
    "urls = ['https://en.wikipedia.org/wiki/Onigiri',\n",
    "       'https://en.wikipedia.org/wiki/Arancini',\n",
    "       'https://en.wikipedia.org/wiki/Omo_tuo',\n",
    "       'https://en.wikipedia.org/wiki/Jumeok-bap',\n",
    "       'https://en.wikipedia.org/wiki/Pinda_(riceball)',\n",
    "       'https://en.wikipedia.org/wiki/Suppl%C3%AC',\n",
    "       'https://en.wikipedia.org/wiki/Tangyuan_(food)',\n",
    "       'https://en.wikipedia.org/wiki/Zongzi',\n",
    "       'https://en.wikipedia.org/wiki/Khao_tom']"
   ]
  },
  {
   "cell_type": "code",
   "execution_count": 77,
   "id": "45d46536-a674-4d8a-b54b-a8dc1789bd5d",
   "metadata": {},
   "outputs": [],
   "source": [
    "from llama_index.readers.web import SimpleWebPageReader\n",
    "\n",
    "docs = SimpleWebPageReader(html_to_text=True).load_data(urls)"
   ]
  },
  {
   "cell_type": "code",
   "execution_count": 79,
   "id": "ab4c7be8-cb67-4fb9-a0ba-6c6a6a616fcd",
   "metadata": {},
   "outputs": [],
   "source": [
    "formatted = [{\"content\": doc.text, \"metadata\": {\"source\": doc.id_}} for doc in docs]"
   ]
  },
  {
   "cell_type": "code",
   "execution_count": 70,
   "id": "c8a98ab0-d6d6-43fd-bc9f-be9e6b1b971d",
   "metadata": {},
   "outputs": [],
   "source": [
    "from pycolbertdb.client import Colbertdb"
   ]
  },
  {
   "cell_type": "code",
   "execution_count": 80,
   "id": "5e0e3be9-d608-491a-abc4-45b98eaffc4b",
   "metadata": {},
   "outputs": [],
   "source": [
    "client = Colbertdb(url=\"http://localhost:8080\")"
   ]
  },
  {
   "cell_type": "code",
   "execution_count": 81,
   "id": "3c2238f0-8999-4656-a378-9299c402767d",
   "metadata": {},
   "outputs": [],
   "source": [
    "client.connect()"
   ]
  },
  {
   "cell_type": "code",
   "execution_count": null,
   "id": "4a6cfc51-838c-41ba-a99c-6de65e3eee64",
   "metadata": {},
   "outputs": [],
   "source": [
    "collection = client.create_collection(documents=formatted, name='rice_ball_facts')"
   ]
  },
  {
   "cell_type": "code",
   "execution_count": 63,
   "id": "ae3ef402-34ad-4d0e-b56d-125bdc2573a7",
   "metadata": {},
   "outputs": [],
   "source": [
    "result = collection.search(query=\"What are some popular fillings for onigiri?\", k=3)"
   ]
  },
  {
   "cell_type": "code",
   "execution_count": null,
   "id": "33960b44-bf0c-4439-84c9-51f8114f6f14",
   "metadata": {},
   "outputs": [],
   "source": [
    "for document in result.documents: print(document.metadata['source'], document.content)"
   ]
  },
  {
   "cell_type": "code",
   "execution_count": null,
   "id": "15cb6a9b-d1b7-496e-be4f-991bd04f1f13",
   "metadata": {
    "collapsed": true,
    "jupyter": {
     "outputs_hidden": true
    }
   },
   "outputs": [],
   "source": []
  }
 ],
 "metadata": {
  "kernelspec": {
   "display_name": "Python 3 (ipykernel)",
   "language": "python",
   "name": "python3"
  },
  "language_info": {
   "codemirror_mode": {
    "name": "ipython",
    "version": 3
   },
   "file_extension": ".py",
   "mimetype": "text/x-python",
   "name": "python",
   "nbconvert_exporter": "python",
   "pygments_lexer": "ipython3",
   "version": "3.12.3"
  }
 },
 "nbformat": 4,
 "nbformat_minor": 5
}
