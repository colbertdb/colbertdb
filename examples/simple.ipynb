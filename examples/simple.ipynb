{
 "cells": [
  {
   "cell_type": "markdown",
   "id": "02712cd3-d991-40ab-a7e3-eb819cbe2b0e",
   "metadata": {},
   "source": [
    "This notebook will go over a simple rag example. We will create a collection, run a query and pass the results to an LLM, then update the collection and repeat."
   ]
  },
  {
   "cell_type": "code",
   "execution_count": 1,
   "id": "44cbe9ba-8c7b-4dd5-9159-2ff7a795c9aa",
   "metadata": {},
   "outputs": [
    {
     "name": "stdout",
     "output_type": "stream",
     "text": [
      "Requirement already satisfied: pycolbertdb in ./.venv/lib/python3.12/site-packages (0.2.5)\n",
      "Requirement already satisfied: datamodel-code-generator<0.26.0,>=0.25.6 in ./.venv/lib/python3.12/site-packages (from datamodel-code-generator[http]<0.26.0,>=0.25.6->pycolbertdb) (0.25.6)\n",
      "Requirement already satisfied: llama-index-readers-web<0.2.0,>=0.1.14 in ./.venv/lib/python3.12/site-packages (from pycolbertdb) (0.1.16)\n",
      "Requirement already satisfied: pytest<9.0.0,>=8.2.0 in ./.venv/lib/python3.12/site-packages (from pycolbertdb) (8.2.1)\n",
      "Requirement already satisfied: requests<3.0.0,>=2.32.0 in ./.venv/lib/python3.12/site-packages (from pycolbertdb) (2.32.3)\n",
      "Requirement already satisfied: argcomplete<4.0,>=1.10 in ./.venv/lib/python3.12/site-packages (from datamodel-code-generator<0.26.0,>=0.25.6->datamodel-code-generator[http]<0.26.0,>=0.25.6->pycolbertdb) (3.3.0)\n",
      "Requirement already satisfied: black>=19.10b0 in ./.venv/lib/python3.12/site-packages (from datamodel-code-generator<0.26.0,>=0.25.6->datamodel-code-generator[http]<0.26.0,>=0.25.6->pycolbertdb) (24.4.2)\n",
      "Requirement already satisfied: genson<2.0,>=1.2.1 in ./.venv/lib/python3.12/site-packages (from datamodel-code-generator<0.26.0,>=0.25.6->datamodel-code-generator[http]<0.26.0,>=0.25.6->pycolbertdb) (1.3.0)\n",
      "Requirement already satisfied: inflect<6.0,>=4.1.0 in ./.venv/lib/python3.12/site-packages (from datamodel-code-generator<0.26.0,>=0.25.6->datamodel-code-generator[http]<0.26.0,>=0.25.6->pycolbertdb) (5.6.2)\n",
      "Requirement already satisfied: isort<6.0,>=4.3.21 in ./.venv/lib/python3.12/site-packages (from datamodel-code-generator<0.26.0,>=0.25.6->datamodel-code-generator[http]<0.26.0,>=0.25.6->pycolbertdb) (5.13.2)\n",
      "Requirement already satisfied: jinja2<4.0,>=2.10.1 in ./.venv/lib/python3.12/site-packages (from datamodel-code-generator<0.26.0,>=0.25.6->datamodel-code-generator[http]<0.26.0,>=0.25.6->pycolbertdb) (3.1.3)\n",
      "Requirement already satisfied: packaging in ./.venv/lib/python3.12/site-packages (from datamodel-code-generator<0.26.0,>=0.25.6->datamodel-code-generator[http]<0.26.0,>=0.25.6->pycolbertdb) (24.0)\n",
      "Requirement already satisfied: pydantic!=2.0.0,!=2.0.1,!=2.4.0,<3.0,>=1.10.0 in ./.venv/lib/python3.12/site-packages (from pydantic[email]!=2.0.0,!=2.0.1,!=2.4.0,<3.0,>=1.10.0; python_version >= \"3.12\" and python_version < \"4.0\"->datamodel-code-generator<0.26.0,>=0.25.6->datamodel-code-generator[http]<0.26.0,>=0.25.6->pycolbertdb) (2.7.1)\n",
      "Requirement already satisfied: pyyaml>=6.0.1 in ./.venv/lib/python3.12/site-packages (from datamodel-code-generator<0.26.0,>=0.25.6->datamodel-code-generator[http]<0.26.0,>=0.25.6->pycolbertdb) (6.0.1)\n",
      "Requirement already satisfied: httpx in ./.venv/lib/python3.12/site-packages (from datamodel-code-generator[http]<0.26.0,>=0.25.6->pycolbertdb) (0.27.0)\n",
      "Requirement already satisfied: aiohttp<4.0.0,>=3.9.1 in ./.venv/lib/python3.12/site-packages (from llama-index-readers-web<0.2.0,>=0.1.14->pycolbertdb) (3.9.5)\n",
      "Requirement already satisfied: beautifulsoup4<5.0.0,>=4.12.3 in ./.venv/lib/python3.12/site-packages (from llama-index-readers-web<0.2.0,>=0.1.14->pycolbertdb) (4.12.3)\n",
      "Requirement already satisfied: chromedriver-autoinstaller<0.7.0,>=0.6.3 in ./.venv/lib/python3.12/site-packages (from llama-index-readers-web<0.2.0,>=0.1.14->pycolbertdb) (0.6.4)\n",
      "Requirement already satisfied: html2text<2021.0.0,>=2020.1.16 in ./.venv/lib/python3.12/site-packages (from llama-index-readers-web<0.2.0,>=0.1.14->pycolbertdb) (2020.1.16)\n",
      "Requirement already satisfied: llama-index-core<0.11.0,>=0.10.1 in ./.venv/lib/python3.12/site-packages (from llama-index-readers-web<0.2.0,>=0.1.14->pycolbertdb) (0.10.34)\n",
      "Requirement already satisfied: newspaper3k<0.3.0,>=0.2.8 in ./.venv/lib/python3.12/site-packages (from llama-index-readers-web<0.2.0,>=0.1.14->pycolbertdb) (0.2.8)\n",
      "Requirement already satisfied: playwright<2.0,>=1.30 in ./.venv/lib/python3.12/site-packages (from llama-index-readers-web<0.2.0,>=0.1.14->pycolbertdb) (1.43.0)\n",
      "Requirement already satisfied: selenium<5.0.0,>=4.17.2 in ./.venv/lib/python3.12/site-packages (from llama-index-readers-web<0.2.0,>=0.1.14->pycolbertdb) (4.20.0)\n",
      "Requirement already satisfied: spider-client<0.0.12,>=0.0.11 in ./.venv/lib/python3.12/site-packages (from llama-index-readers-web<0.2.0,>=0.1.14->pycolbertdb) (0.0.11)\n",
      "Requirement already satisfied: urllib3>=1.1.0 in ./.venv/lib/python3.12/site-packages (from llama-index-readers-web<0.2.0,>=0.1.14->pycolbertdb) (2.2.1)\n",
      "Requirement already satisfied: iniconfig in ./.venv/lib/python3.12/site-packages (from pytest<9.0.0,>=8.2.0->pycolbertdb) (2.0.0)\n",
      "Requirement already satisfied: pluggy<2.0,>=1.5 in ./.venv/lib/python3.12/site-packages (from pytest<9.0.0,>=8.2.0->pycolbertdb) (1.5.0)\n",
      "Requirement already satisfied: charset-normalizer<4,>=2 in ./.venv/lib/python3.12/site-packages (from requests<3.0.0,>=2.32.0->pycolbertdb) (3.3.2)\n",
      "Requirement already satisfied: idna<4,>=2.5 in ./.venv/lib/python3.12/site-packages (from requests<3.0.0,>=2.32.0->pycolbertdb) (3.7)\n",
      "Requirement already satisfied: certifi>=2017.4.17 in ./.venv/lib/python3.12/site-packages (from requests<3.0.0,>=2.32.0->pycolbertdb) (2024.2.2)\n",
      "Requirement already satisfied: aiosignal>=1.1.2 in ./.venv/lib/python3.12/site-packages (from aiohttp<4.0.0,>=3.9.1->llama-index-readers-web<0.2.0,>=0.1.14->pycolbertdb) (1.3.1)\n",
      "Requirement already satisfied: attrs>=17.3.0 in ./.venv/lib/python3.12/site-packages (from aiohttp<4.0.0,>=3.9.1->llama-index-readers-web<0.2.0,>=0.1.14->pycolbertdb) (23.2.0)\n",
      "Requirement already satisfied: frozenlist>=1.1.1 in ./.venv/lib/python3.12/site-packages (from aiohttp<4.0.0,>=3.9.1->llama-index-readers-web<0.2.0,>=0.1.14->pycolbertdb) (1.4.1)\n",
      "Requirement already satisfied: multidict<7.0,>=4.5 in ./.venv/lib/python3.12/site-packages (from aiohttp<4.0.0,>=3.9.1->llama-index-readers-web<0.2.0,>=0.1.14->pycolbertdb) (6.0.5)\n",
      "Requirement already satisfied: yarl<2.0,>=1.0 in ./.venv/lib/python3.12/site-packages (from aiohttp<4.0.0,>=3.9.1->llama-index-readers-web<0.2.0,>=0.1.14->pycolbertdb) (1.9.4)\n",
      "Requirement already satisfied: soupsieve>1.2 in ./.venv/lib/python3.12/site-packages (from beautifulsoup4<5.0.0,>=4.12.3->llama-index-readers-web<0.2.0,>=0.1.14->pycolbertdb) (2.5)\n",
      "Requirement already satisfied: click>=8.0.0 in ./.venv/lib/python3.12/site-packages (from black>=19.10b0->datamodel-code-generator<0.26.0,>=0.25.6->datamodel-code-generator[http]<0.26.0,>=0.25.6->pycolbertdb) (8.1.7)\n",
      "Requirement already satisfied: mypy-extensions>=0.4.3 in ./.venv/lib/python3.12/site-packages (from black>=19.10b0->datamodel-code-generator<0.26.0,>=0.25.6->datamodel-code-generator[http]<0.26.0,>=0.25.6->pycolbertdb) (1.0.0)\n",
      "Requirement already satisfied: pathspec>=0.9.0 in ./.venv/lib/python3.12/site-packages (from black>=19.10b0->datamodel-code-generator<0.26.0,>=0.25.6->datamodel-code-generator[http]<0.26.0,>=0.25.6->pycolbertdb) (0.12.1)\n",
      "Requirement already satisfied: platformdirs>=2 in ./.venv/lib/python3.12/site-packages (from black>=19.10b0->datamodel-code-generator<0.26.0,>=0.25.6->datamodel-code-generator[http]<0.26.0,>=0.25.6->pycolbertdb) (4.2.1)\n",
      "Requirement already satisfied: MarkupSafe>=2.0 in ./.venv/lib/python3.12/site-packages (from jinja2<4.0,>=2.10.1->datamodel-code-generator<0.26.0,>=0.25.6->datamodel-code-generator[http]<0.26.0,>=0.25.6->pycolbertdb) (2.1.5)\n",
      "Requirement already satisfied: SQLAlchemy>=1.4.49 in ./.venv/lib/python3.12/site-packages (from SQLAlchemy[asyncio]>=1.4.49->llama-index-core<0.11.0,>=0.10.1->llama-index-readers-web<0.2.0,>=0.1.14->pycolbertdb) (2.0.29)\n",
      "Requirement already satisfied: dataclasses-json in ./.venv/lib/python3.12/site-packages (from llama-index-core<0.11.0,>=0.10.1->llama-index-readers-web<0.2.0,>=0.1.14->pycolbertdb) (0.6.5)\n",
      "Requirement already satisfied: deprecated>=1.2.9.3 in ./.venv/lib/python3.12/site-packages (from llama-index-core<0.11.0,>=0.10.1->llama-index-readers-web<0.2.0,>=0.1.14->pycolbertdb) (1.2.14)\n",
      "Requirement already satisfied: dirtyjson<2.0.0,>=1.0.8 in ./.venv/lib/python3.12/site-packages (from llama-index-core<0.11.0,>=0.10.1->llama-index-readers-web<0.2.0,>=0.1.14->pycolbertdb) (1.0.8)\n",
      "Requirement already satisfied: fsspec>=2023.5.0 in ./.venv/lib/python3.12/site-packages (from llama-index-core<0.11.0,>=0.10.1->llama-index-readers-web<0.2.0,>=0.1.14->pycolbertdb) (2024.3.1)\n",
      "Requirement already satisfied: llamaindex-py-client<0.2.0,>=0.1.18 in ./.venv/lib/python3.12/site-packages (from llama-index-core<0.11.0,>=0.10.1->llama-index-readers-web<0.2.0,>=0.1.14->pycolbertdb) (0.1.19)\n",
      "Requirement already satisfied: nest-asyncio<2.0.0,>=1.5.8 in ./.venv/lib/python3.12/site-packages (from llama-index-core<0.11.0,>=0.10.1->llama-index-readers-web<0.2.0,>=0.1.14->pycolbertdb) (1.6.0)\n",
      "Requirement already satisfied: networkx>=3.0 in ./.venv/lib/python3.12/site-packages (from llama-index-core<0.11.0,>=0.10.1->llama-index-readers-web<0.2.0,>=0.1.14->pycolbertdb) (3.3)\n",
      "Requirement already satisfied: nltk<4.0.0,>=3.8.1 in ./.venv/lib/python3.12/site-packages (from llama-index-core<0.11.0,>=0.10.1->llama-index-readers-web<0.2.0,>=0.1.14->pycolbertdb) (3.8.1)\n",
      "Requirement already satisfied: numpy in ./.venv/lib/python3.12/site-packages (from llama-index-core<0.11.0,>=0.10.1->llama-index-readers-web<0.2.0,>=0.1.14->pycolbertdb) (1.26.4)\n",
      "Requirement already satisfied: openai>=1.1.0 in ./.venv/lib/python3.12/site-packages (from llama-index-core<0.11.0,>=0.10.1->llama-index-readers-web<0.2.0,>=0.1.14->pycolbertdb) (1.25.1)\n",
      "Requirement already satisfied: pandas in ./.venv/lib/python3.12/site-packages (from llama-index-core<0.11.0,>=0.10.1->llama-index-readers-web<0.2.0,>=0.1.14->pycolbertdb) (2.2.2)\n",
      "Requirement already satisfied: pillow>=9.0.0 in ./.venv/lib/python3.12/site-packages (from llama-index-core<0.11.0,>=0.10.1->llama-index-readers-web<0.2.0,>=0.1.14->pycolbertdb) (10.3.0)\n",
      "Requirement already satisfied: tenacity<9.0.0,>=8.2.0 in ./.venv/lib/python3.12/site-packages (from llama-index-core<0.11.0,>=0.10.1->llama-index-readers-web<0.2.0,>=0.1.14->pycolbertdb) (8.2.3)\n",
      "Requirement already satisfied: tiktoken>=0.3.3 in ./.venv/lib/python3.12/site-packages (from llama-index-core<0.11.0,>=0.10.1->llama-index-readers-web<0.2.0,>=0.1.14->pycolbertdb) (0.6.0)\n",
      "Requirement already satisfied: tqdm<5.0.0,>=4.66.1 in ./.venv/lib/python3.12/site-packages (from llama-index-core<0.11.0,>=0.10.1->llama-index-readers-web<0.2.0,>=0.1.14->pycolbertdb) (4.66.4)\n",
      "Requirement already satisfied: typing-extensions>=4.5.0 in ./.venv/lib/python3.12/site-packages (from llama-index-core<0.11.0,>=0.10.1->llama-index-readers-web<0.2.0,>=0.1.14->pycolbertdb) (4.11.0)\n",
      "Requirement already satisfied: typing-inspect>=0.8.0 in ./.venv/lib/python3.12/site-packages (from llama-index-core<0.11.0,>=0.10.1->llama-index-readers-web<0.2.0,>=0.1.14->pycolbertdb) (0.9.0)\n",
      "Requirement already satisfied: wrapt in ./.venv/lib/python3.12/site-packages (from llama-index-core<0.11.0,>=0.10.1->llama-index-readers-web<0.2.0,>=0.1.14->pycolbertdb) (1.16.0)\n",
      "Requirement already satisfied: cssselect>=0.9.2 in ./.venv/lib/python3.12/site-packages (from newspaper3k<0.3.0,>=0.2.8->llama-index-readers-web<0.2.0,>=0.1.14->pycolbertdb) (1.2.0)\n",
      "Requirement already satisfied: lxml>=3.6.0 in ./.venv/lib/python3.12/site-packages (from newspaper3k<0.3.0,>=0.2.8->llama-index-readers-web<0.2.0,>=0.1.14->pycolbertdb) (5.2.1)\n",
      "Requirement already satisfied: feedparser>=5.2.1 in ./.venv/lib/python3.12/site-packages (from newspaper3k<0.3.0,>=0.2.8->llama-index-readers-web<0.2.0,>=0.1.14->pycolbertdb) (6.0.11)\n",
      "Requirement already satisfied: tldextract>=2.0.1 in ./.venv/lib/python3.12/site-packages (from newspaper3k<0.3.0,>=0.2.8->llama-index-readers-web<0.2.0,>=0.1.14->pycolbertdb) (5.1.2)\n",
      "Requirement already satisfied: feedfinder2>=0.0.4 in ./.venv/lib/python3.12/site-packages (from newspaper3k<0.3.0,>=0.2.8->llama-index-readers-web<0.2.0,>=0.1.14->pycolbertdb) (0.0.4)\n",
      "Requirement already satisfied: jieba3k>=0.35.1 in ./.venv/lib/python3.12/site-packages (from newspaper3k<0.3.0,>=0.2.8->llama-index-readers-web<0.2.0,>=0.1.14->pycolbertdb) (0.35.1)\n",
      "Requirement already satisfied: python-dateutil>=2.5.3 in ./.venv/lib/python3.12/site-packages (from newspaper3k<0.3.0,>=0.2.8->llama-index-readers-web<0.2.0,>=0.1.14->pycolbertdb) (2.9.0.post0)\n",
      "Requirement already satisfied: tinysegmenter==0.3 in ./.venv/lib/python3.12/site-packages (from newspaper3k<0.3.0,>=0.2.8->llama-index-readers-web<0.2.0,>=0.1.14->pycolbertdb) (0.3)\n",
      "Requirement already satisfied: greenlet==3.0.3 in ./.venv/lib/python3.12/site-packages (from playwright<2.0,>=1.30->llama-index-readers-web<0.2.0,>=0.1.14->pycolbertdb) (3.0.3)\n",
      "Requirement already satisfied: pyee==11.1.0 in ./.venv/lib/python3.12/site-packages (from playwright<2.0,>=1.30->llama-index-readers-web<0.2.0,>=0.1.14->pycolbertdb) (11.1.0)\n",
      "Requirement already satisfied: annotated-types>=0.4.0 in ./.venv/lib/python3.12/site-packages (from pydantic!=2.0.0,!=2.0.1,!=2.4.0,<3.0,>=1.10.0->pydantic[email]!=2.0.0,!=2.0.1,!=2.4.0,<3.0,>=1.10.0; python_version >= \"3.12\" and python_version < \"4.0\"->datamodel-code-generator<0.26.0,>=0.25.6->datamodel-code-generator[http]<0.26.0,>=0.25.6->pycolbertdb) (0.6.0)\n",
      "Requirement already satisfied: pydantic-core==2.18.2 in ./.venv/lib/python3.12/site-packages (from pydantic!=2.0.0,!=2.0.1,!=2.4.0,<3.0,>=1.10.0->pydantic[email]!=2.0.0,!=2.0.1,!=2.4.0,<3.0,>=1.10.0; python_version >= \"3.12\" and python_version < \"4.0\"->datamodel-code-generator<0.26.0,>=0.25.6->datamodel-code-generator[http]<0.26.0,>=0.25.6->pycolbertdb) (2.18.2)\n",
      "Requirement already satisfied: email-validator>=2.0.0 in ./.venv/lib/python3.12/site-packages (from pydantic[email]!=2.0.0,!=2.0.1,!=2.4.0,<3.0,>=1.10.0; python_version >= \"3.12\" and python_version < \"4.0\"->datamodel-code-generator<0.26.0,>=0.25.6->datamodel-code-generator[http]<0.26.0,>=0.25.6->pycolbertdb) (2.1.1)\n",
      "Requirement already satisfied: trio~=0.17 in ./.venv/lib/python3.12/site-packages (from selenium<5.0.0,>=4.17.2->llama-index-readers-web<0.2.0,>=0.1.14->pycolbertdb) (0.25.0)\n",
      "Requirement already satisfied: trio-websocket~=0.9 in ./.venv/lib/python3.12/site-packages (from selenium<5.0.0,>=4.17.2->llama-index-readers-web<0.2.0,>=0.1.14->pycolbertdb) (0.11.1)\n",
      "Requirement already satisfied: anyio in ./.venv/lib/python3.12/site-packages (from httpx->datamodel-code-generator[http]<0.26.0,>=0.25.6->pycolbertdb) (4.3.0)\n",
      "Requirement already satisfied: httpcore==1.* in ./.venv/lib/python3.12/site-packages (from httpx->datamodel-code-generator[http]<0.26.0,>=0.25.6->pycolbertdb) (1.0.5)\n",
      "Requirement already satisfied: sniffio in ./.venv/lib/python3.12/site-packages (from httpx->datamodel-code-generator[http]<0.26.0,>=0.25.6->pycolbertdb) (1.3.1)\n",
      "Requirement already satisfied: h11<0.15,>=0.13 in ./.venv/lib/python3.12/site-packages (from httpcore==1.*->httpx->datamodel-code-generator[http]<0.26.0,>=0.25.6->pycolbertdb) (0.14.0)\n",
      "Requirement already satisfied: dnspython>=2.0.0 in ./.venv/lib/python3.12/site-packages (from email-validator>=2.0.0->pydantic[email]!=2.0.0,!=2.0.1,!=2.4.0,<3.0,>=1.10.0; python_version >= \"3.12\" and python_version < \"4.0\"->datamodel-code-generator<0.26.0,>=0.25.6->datamodel-code-generator[http]<0.26.0,>=0.25.6->pycolbertdb) (2.6.1)\n",
      "Requirement already satisfied: six in ./.venv/lib/python3.12/site-packages (from feedfinder2>=0.0.4->newspaper3k<0.3.0,>=0.2.8->llama-index-readers-web<0.2.0,>=0.1.14->pycolbertdb) (1.16.0)\n",
      "Requirement already satisfied: sgmllib3k in ./.venv/lib/python3.12/site-packages (from feedparser>=5.2.1->newspaper3k<0.3.0,>=0.2.8->llama-index-readers-web<0.2.0,>=0.1.14->pycolbertdb) (1.0.0)\n",
      "Requirement already satisfied: joblib in ./.venv/lib/python3.12/site-packages (from nltk<4.0.0,>=3.8.1->llama-index-core<0.11.0,>=0.10.1->llama-index-readers-web<0.2.0,>=0.1.14->pycolbertdb) (1.4.2)\n",
      "Requirement already satisfied: regex>=2021.8.3 in ./.venv/lib/python3.12/site-packages (from nltk<4.0.0,>=3.8.1->llama-index-core<0.11.0,>=0.10.1->llama-index-readers-web<0.2.0,>=0.1.14->pycolbertdb) (2024.4.28)\n",
      "Requirement already satisfied: distro<2,>=1.7.0 in ./.venv/lib/python3.12/site-packages (from openai>=1.1.0->llama-index-core<0.11.0,>=0.10.1->llama-index-readers-web<0.2.0,>=0.1.14->pycolbertdb) (1.9.0)\n",
      "Requirement already satisfied: requests-file>=1.4 in ./.venv/lib/python3.12/site-packages (from tldextract>=2.0.1->newspaper3k<0.3.0,>=0.2.8->llama-index-readers-web<0.2.0,>=0.1.14->pycolbertdb) (2.0.0)\n",
      "Requirement already satisfied: filelock>=3.0.8 in ./.venv/lib/python3.12/site-packages (from tldextract>=2.0.1->newspaper3k<0.3.0,>=0.2.8->llama-index-readers-web<0.2.0,>=0.1.14->pycolbertdb) (3.14.0)\n",
      "Requirement already satisfied: sortedcontainers in ./.venv/lib/python3.12/site-packages (from trio~=0.17->selenium<5.0.0,>=4.17.2->llama-index-readers-web<0.2.0,>=0.1.14->pycolbertdb) (2.4.0)\n",
      "Requirement already satisfied: outcome in ./.venv/lib/python3.12/site-packages (from trio~=0.17->selenium<5.0.0,>=4.17.2->llama-index-readers-web<0.2.0,>=0.1.14->pycolbertdb) (1.3.0.post0)\n",
      "Requirement already satisfied: wsproto>=0.14 in ./.venv/lib/python3.12/site-packages (from trio-websocket~=0.9->selenium<5.0.0,>=4.17.2->llama-index-readers-web<0.2.0,>=0.1.14->pycolbertdb) (1.2.0)\n",
      "Requirement already satisfied: pysocks!=1.5.7,<2.0,>=1.5.6 in ./.venv/lib/python3.12/site-packages (from urllib3[socks]<3,>=1.26->selenium<5.0.0,>=4.17.2->llama-index-readers-web<0.2.0,>=0.1.14->pycolbertdb) (1.7.1)\n",
      "Requirement already satisfied: marshmallow<4.0.0,>=3.18.0 in ./.venv/lib/python3.12/site-packages (from dataclasses-json->llama-index-core<0.11.0,>=0.10.1->llama-index-readers-web<0.2.0,>=0.1.14->pycolbertdb) (3.21.2)\n",
      "Requirement already satisfied: pytz>=2020.1 in ./.venv/lib/python3.12/site-packages (from pandas->llama-index-core<0.11.0,>=0.10.1->llama-index-readers-web<0.2.0,>=0.1.14->pycolbertdb) (2024.1)\n",
      "Requirement already satisfied: tzdata>=2022.7 in ./.venv/lib/python3.12/site-packages (from pandas->llama-index-core<0.11.0,>=0.10.1->llama-index-readers-web<0.2.0,>=0.1.14->pycolbertdb) (2024.1)\n"
     ]
    }
   ],
   "source": [
    "!pip install pycolbertdb -U"
   ]
  },
  {
   "cell_type": "code",
   "execution_count": 2,
   "id": "5e6ef4f5-8352-40a4-bf76-ee615b8d4b82",
   "metadata": {},
   "outputs": [
    {
     "name": "stdout",
     "output_type": "stream",
     "text": [
      "Requirement already satisfied: llama-index in ./.venv/lib/python3.12/site-packages (0.10.34)\n",
      "Requirement already satisfied: llama-index-agent-openai<0.3.0,>=0.1.4 in ./.venv/lib/python3.12/site-packages (from llama-index) (0.2.3)\n",
      "Requirement already satisfied: llama-index-cli<0.2.0,>=0.1.2 in ./.venv/lib/python3.12/site-packages (from llama-index) (0.1.12)\n",
      "Requirement already satisfied: llama-index-core<0.11.0,>=0.10.34 in ./.venv/lib/python3.12/site-packages (from llama-index) (0.10.34)\n",
      "Requirement already satisfied: llama-index-embeddings-openai<0.2.0,>=0.1.5 in ./.venv/lib/python3.12/site-packages (from llama-index) (0.1.9)\n",
      "Requirement already satisfied: llama-index-indices-managed-llama-cloud<0.2.0,>=0.1.2 in ./.venv/lib/python3.12/site-packages (from llama-index) (0.1.6)\n",
      "Requirement already satisfied: llama-index-legacy<0.10.0,>=0.9.48 in ./.venv/lib/python3.12/site-packages (from llama-index) (0.9.48)\n",
      "Requirement already satisfied: llama-index-llms-openai<0.2.0,>=0.1.13 in ./.venv/lib/python3.12/site-packages (from llama-index) (0.1.16)\n",
      "Requirement already satisfied: llama-index-multi-modal-llms-openai<0.2.0,>=0.1.3 in ./.venv/lib/python3.12/site-packages (from llama-index) (0.1.5)\n",
      "Requirement already satisfied: llama-index-program-openai<0.2.0,>=0.1.3 in ./.venv/lib/python3.12/site-packages (from llama-index) (0.1.6)\n",
      "Requirement already satisfied: llama-index-question-gen-openai<0.2.0,>=0.1.2 in ./.venv/lib/python3.12/site-packages (from llama-index) (0.1.3)\n",
      "Requirement already satisfied: llama-index-readers-file<0.2.0,>=0.1.4 in ./.venv/lib/python3.12/site-packages (from llama-index) (0.1.20)\n",
      "Requirement already satisfied: llama-index-readers-llama-parse<0.2.0,>=0.1.2 in ./.venv/lib/python3.12/site-packages (from llama-index) (0.1.4)\n",
      "Requirement already satisfied: openai>=1.14.0 in ./.venv/lib/python3.12/site-packages (from llama-index-agent-openai<0.3.0,>=0.1.4->llama-index) (1.25.1)\n",
      "Requirement already satisfied: PyYAML>=6.0.1 in ./.venv/lib/python3.12/site-packages (from llama-index-core<0.11.0,>=0.10.34->llama-index) (6.0.1)\n",
      "Requirement already satisfied: SQLAlchemy>=1.4.49 in ./.venv/lib/python3.12/site-packages (from SQLAlchemy[asyncio]>=1.4.49->llama-index-core<0.11.0,>=0.10.34->llama-index) (2.0.29)\n",
      "Requirement already satisfied: aiohttp<4.0.0,>=3.8.6 in ./.venv/lib/python3.12/site-packages (from llama-index-core<0.11.0,>=0.10.34->llama-index) (3.9.5)\n",
      "Requirement already satisfied: dataclasses-json in ./.venv/lib/python3.12/site-packages (from llama-index-core<0.11.0,>=0.10.34->llama-index) (0.6.5)\n",
      "Requirement already satisfied: deprecated>=1.2.9.3 in ./.venv/lib/python3.12/site-packages (from llama-index-core<0.11.0,>=0.10.34->llama-index) (1.2.14)\n",
      "Requirement already satisfied: dirtyjson<2.0.0,>=1.0.8 in ./.venv/lib/python3.12/site-packages (from llama-index-core<0.11.0,>=0.10.34->llama-index) (1.0.8)\n",
      "Requirement already satisfied: fsspec>=2023.5.0 in ./.venv/lib/python3.12/site-packages (from llama-index-core<0.11.0,>=0.10.34->llama-index) (2024.3.1)\n",
      "Requirement already satisfied: httpx in ./.venv/lib/python3.12/site-packages (from llama-index-core<0.11.0,>=0.10.34->llama-index) (0.27.0)\n",
      "Requirement already satisfied: llamaindex-py-client<0.2.0,>=0.1.18 in ./.venv/lib/python3.12/site-packages (from llama-index-core<0.11.0,>=0.10.34->llama-index) (0.1.19)\n",
      "Requirement already satisfied: nest-asyncio<2.0.0,>=1.5.8 in ./.venv/lib/python3.12/site-packages (from llama-index-core<0.11.0,>=0.10.34->llama-index) (1.6.0)\n",
      "Requirement already satisfied: networkx>=3.0 in ./.venv/lib/python3.12/site-packages (from llama-index-core<0.11.0,>=0.10.34->llama-index) (3.3)\n",
      "Requirement already satisfied: nltk<4.0.0,>=3.8.1 in ./.venv/lib/python3.12/site-packages (from llama-index-core<0.11.0,>=0.10.34->llama-index) (3.8.1)\n",
      "Requirement already satisfied: numpy in ./.venv/lib/python3.12/site-packages (from llama-index-core<0.11.0,>=0.10.34->llama-index) (1.26.4)\n",
      "Requirement already satisfied: pandas in ./.venv/lib/python3.12/site-packages (from llama-index-core<0.11.0,>=0.10.34->llama-index) (2.2.2)\n",
      "Requirement already satisfied: pillow>=9.0.0 in ./.venv/lib/python3.12/site-packages (from llama-index-core<0.11.0,>=0.10.34->llama-index) (10.3.0)\n",
      "Requirement already satisfied: requests>=2.31.0 in ./.venv/lib/python3.12/site-packages (from llama-index-core<0.11.0,>=0.10.34->llama-index) (2.32.3)\n",
      "Requirement already satisfied: tenacity<9.0.0,>=8.2.0 in ./.venv/lib/python3.12/site-packages (from llama-index-core<0.11.0,>=0.10.34->llama-index) (8.2.3)\n",
      "Requirement already satisfied: tiktoken>=0.3.3 in ./.venv/lib/python3.12/site-packages (from llama-index-core<0.11.0,>=0.10.34->llama-index) (0.6.0)\n",
      "Requirement already satisfied: tqdm<5.0.0,>=4.66.1 in ./.venv/lib/python3.12/site-packages (from llama-index-core<0.11.0,>=0.10.34->llama-index) (4.66.4)\n",
      "Requirement already satisfied: typing-extensions>=4.5.0 in ./.venv/lib/python3.12/site-packages (from llama-index-core<0.11.0,>=0.10.34->llama-index) (4.11.0)\n",
      "Requirement already satisfied: typing-inspect>=0.8.0 in ./.venv/lib/python3.12/site-packages (from llama-index-core<0.11.0,>=0.10.34->llama-index) (0.9.0)\n",
      "Requirement already satisfied: wrapt in ./.venv/lib/python3.12/site-packages (from llama-index-core<0.11.0,>=0.10.34->llama-index) (1.16.0)\n",
      "Requirement already satisfied: beautifulsoup4<5.0.0,>=4.12.3 in ./.venv/lib/python3.12/site-packages (from llama-index-readers-file<0.2.0,>=0.1.4->llama-index) (4.12.3)\n",
      "Requirement already satisfied: pypdf<5.0.0,>=4.0.1 in ./.venv/lib/python3.12/site-packages (from llama-index-readers-file<0.2.0,>=0.1.4->llama-index) (4.2.0)\n",
      "Requirement already satisfied: striprtf<0.0.27,>=0.0.26 in ./.venv/lib/python3.12/site-packages (from llama-index-readers-file<0.2.0,>=0.1.4->llama-index) (0.0.26)\n",
      "Requirement already satisfied: llama-parse<0.5.0,>=0.4.0 in ./.venv/lib/python3.12/site-packages (from llama-index-readers-llama-parse<0.2.0,>=0.1.2->llama-index) (0.4.2)\n",
      "Requirement already satisfied: aiosignal>=1.1.2 in ./.venv/lib/python3.12/site-packages (from aiohttp<4.0.0,>=3.8.6->llama-index-core<0.11.0,>=0.10.34->llama-index) (1.3.1)\n",
      "Requirement already satisfied: attrs>=17.3.0 in ./.venv/lib/python3.12/site-packages (from aiohttp<4.0.0,>=3.8.6->llama-index-core<0.11.0,>=0.10.34->llama-index) (23.2.0)\n",
      "Requirement already satisfied: frozenlist>=1.1.1 in ./.venv/lib/python3.12/site-packages (from aiohttp<4.0.0,>=3.8.6->llama-index-core<0.11.0,>=0.10.34->llama-index) (1.4.1)\n",
      "Requirement already satisfied: multidict<7.0,>=4.5 in ./.venv/lib/python3.12/site-packages (from aiohttp<4.0.0,>=3.8.6->llama-index-core<0.11.0,>=0.10.34->llama-index) (6.0.5)\n",
      "Requirement already satisfied: yarl<2.0,>=1.0 in ./.venv/lib/python3.12/site-packages (from aiohttp<4.0.0,>=3.8.6->llama-index-core<0.11.0,>=0.10.34->llama-index) (1.9.4)\n",
      "Requirement already satisfied: soupsieve>1.2 in ./.venv/lib/python3.12/site-packages (from beautifulsoup4<5.0.0,>=4.12.3->llama-index-readers-file<0.2.0,>=0.1.4->llama-index) (2.5)\n",
      "Requirement already satisfied: pydantic>=1.10 in ./.venv/lib/python3.12/site-packages (from llamaindex-py-client<0.2.0,>=0.1.18->llama-index-core<0.11.0,>=0.10.34->llama-index) (2.7.1)\n",
      "Requirement already satisfied: anyio in ./.venv/lib/python3.12/site-packages (from httpx->llama-index-core<0.11.0,>=0.10.34->llama-index) (4.3.0)\n",
      "Requirement already satisfied: certifi in ./.venv/lib/python3.12/site-packages (from httpx->llama-index-core<0.11.0,>=0.10.34->llama-index) (2024.2.2)\n",
      "Requirement already satisfied: httpcore==1.* in ./.venv/lib/python3.12/site-packages (from httpx->llama-index-core<0.11.0,>=0.10.34->llama-index) (1.0.5)\n",
      "Requirement already satisfied: idna in ./.venv/lib/python3.12/site-packages (from httpx->llama-index-core<0.11.0,>=0.10.34->llama-index) (3.7)\n",
      "Requirement already satisfied: sniffio in ./.venv/lib/python3.12/site-packages (from httpx->llama-index-core<0.11.0,>=0.10.34->llama-index) (1.3.1)\n",
      "Requirement already satisfied: h11<0.15,>=0.13 in ./.venv/lib/python3.12/site-packages (from httpcore==1.*->httpx->llama-index-core<0.11.0,>=0.10.34->llama-index) (0.14.0)\n",
      "Requirement already satisfied: click in ./.venv/lib/python3.12/site-packages (from nltk<4.0.0,>=3.8.1->llama-index-core<0.11.0,>=0.10.34->llama-index) (8.1.7)\n",
      "Requirement already satisfied: joblib in ./.venv/lib/python3.12/site-packages (from nltk<4.0.0,>=3.8.1->llama-index-core<0.11.0,>=0.10.34->llama-index) (1.4.2)\n",
      "Requirement already satisfied: regex>=2021.8.3 in ./.venv/lib/python3.12/site-packages (from nltk<4.0.0,>=3.8.1->llama-index-core<0.11.0,>=0.10.34->llama-index) (2024.4.28)\n",
      "Requirement already satisfied: distro<2,>=1.7.0 in ./.venv/lib/python3.12/site-packages (from openai>=1.14.0->llama-index-agent-openai<0.3.0,>=0.1.4->llama-index) (1.9.0)\n",
      "Requirement already satisfied: charset-normalizer<4,>=2 in ./.venv/lib/python3.12/site-packages (from requests>=2.31.0->llama-index-core<0.11.0,>=0.10.34->llama-index) (3.3.2)\n",
      "Requirement already satisfied: urllib3<3,>=1.21.1 in ./.venv/lib/python3.12/site-packages (from requests>=2.31.0->llama-index-core<0.11.0,>=0.10.34->llama-index) (2.2.1)\n",
      "Requirement already satisfied: greenlet!=0.4.17 in ./.venv/lib/python3.12/site-packages (from SQLAlchemy[asyncio]>=1.4.49->llama-index-core<0.11.0,>=0.10.34->llama-index) (3.0.3)\n",
      "Requirement already satisfied: mypy-extensions>=0.3.0 in ./.venv/lib/python3.12/site-packages (from typing-inspect>=0.8.0->llama-index-core<0.11.0,>=0.10.34->llama-index) (1.0.0)\n",
      "Requirement already satisfied: marshmallow<4.0.0,>=3.18.0 in ./.venv/lib/python3.12/site-packages (from dataclasses-json->llama-index-core<0.11.0,>=0.10.34->llama-index) (3.21.2)\n",
      "Requirement already satisfied: python-dateutil>=2.8.2 in ./.venv/lib/python3.12/site-packages (from pandas->llama-index-core<0.11.0,>=0.10.34->llama-index) (2.9.0.post0)\n",
      "Requirement already satisfied: pytz>=2020.1 in ./.venv/lib/python3.12/site-packages (from pandas->llama-index-core<0.11.0,>=0.10.34->llama-index) (2024.1)\n",
      "Requirement already satisfied: tzdata>=2022.7 in ./.venv/lib/python3.12/site-packages (from pandas->llama-index-core<0.11.0,>=0.10.34->llama-index) (2024.1)\n",
      "Requirement already satisfied: packaging>=17.0 in ./.venv/lib/python3.12/site-packages (from marshmallow<4.0.0,>=3.18.0->dataclasses-json->llama-index-core<0.11.0,>=0.10.34->llama-index) (24.0)\n",
      "Requirement already satisfied: annotated-types>=0.4.0 in ./.venv/lib/python3.12/site-packages (from pydantic>=1.10->llamaindex-py-client<0.2.0,>=0.1.18->llama-index-core<0.11.0,>=0.10.34->llama-index) (0.6.0)\n",
      "Requirement already satisfied: pydantic-core==2.18.2 in ./.venv/lib/python3.12/site-packages (from pydantic>=1.10->llamaindex-py-client<0.2.0,>=0.1.18->llama-index-core<0.11.0,>=0.10.34->llama-index) (2.18.2)\n",
      "Requirement already satisfied: six>=1.5 in ./.venv/lib/python3.12/site-packages (from python-dateutil>=2.8.2->pandas->llama-index-core<0.11.0,>=0.10.34->llama-index) (1.16.0)\n"
     ]
    }
   ],
   "source": [
    "!pip install llama-index"
   ]
  },
  {
   "cell_type": "code",
   "execution_count": 3,
   "id": "8bc18f1c-4e6c-47e6-ad7c-6a6d0a5cd5f6",
   "metadata": {},
   "outputs": [
    {
     "name": "stdout",
     "output_type": "stream",
     "text": [
      "Requirement already satisfied: llama-index-readers-web in ./.venv/lib/python3.12/site-packages (0.1.16)\n",
      "Requirement already satisfied: aiohttp<4.0.0,>=3.9.1 in ./.venv/lib/python3.12/site-packages (from llama-index-readers-web) (3.9.5)\n",
      "Requirement already satisfied: beautifulsoup4<5.0.0,>=4.12.3 in ./.venv/lib/python3.12/site-packages (from llama-index-readers-web) (4.12.3)\n",
      "Requirement already satisfied: chromedriver-autoinstaller<0.7.0,>=0.6.3 in ./.venv/lib/python3.12/site-packages (from llama-index-readers-web) (0.6.4)\n",
      "Requirement already satisfied: html2text<2021.0.0,>=2020.1.16 in ./.venv/lib/python3.12/site-packages (from llama-index-readers-web) (2020.1.16)\n",
      "Requirement already satisfied: llama-index-core<0.11.0,>=0.10.1 in ./.venv/lib/python3.12/site-packages (from llama-index-readers-web) (0.10.34)\n",
      "Requirement already satisfied: newspaper3k<0.3.0,>=0.2.8 in ./.venv/lib/python3.12/site-packages (from llama-index-readers-web) (0.2.8)\n",
      "Requirement already satisfied: playwright<2.0,>=1.30 in ./.venv/lib/python3.12/site-packages (from llama-index-readers-web) (1.43.0)\n",
      "Requirement already satisfied: requests<3.0.0,>=2.31.0 in ./.venv/lib/python3.12/site-packages (from llama-index-readers-web) (2.32.3)\n",
      "Requirement already satisfied: selenium<5.0.0,>=4.17.2 in ./.venv/lib/python3.12/site-packages (from llama-index-readers-web) (4.20.0)\n",
      "Requirement already satisfied: spider-client<0.0.12,>=0.0.11 in ./.venv/lib/python3.12/site-packages (from llama-index-readers-web) (0.0.11)\n",
      "Requirement already satisfied: urllib3>=1.1.0 in ./.venv/lib/python3.12/site-packages (from llama-index-readers-web) (2.2.1)\n",
      "Requirement already satisfied: aiosignal>=1.1.2 in ./.venv/lib/python3.12/site-packages (from aiohttp<4.0.0,>=3.9.1->llama-index-readers-web) (1.3.1)\n",
      "Requirement already satisfied: attrs>=17.3.0 in ./.venv/lib/python3.12/site-packages (from aiohttp<4.0.0,>=3.9.1->llama-index-readers-web) (23.2.0)\n",
      "Requirement already satisfied: frozenlist>=1.1.1 in ./.venv/lib/python3.12/site-packages (from aiohttp<4.0.0,>=3.9.1->llama-index-readers-web) (1.4.1)\n",
      "Requirement already satisfied: multidict<7.0,>=4.5 in ./.venv/lib/python3.12/site-packages (from aiohttp<4.0.0,>=3.9.1->llama-index-readers-web) (6.0.5)\n",
      "Requirement already satisfied: yarl<2.0,>=1.0 in ./.venv/lib/python3.12/site-packages (from aiohttp<4.0.0,>=3.9.1->llama-index-readers-web) (1.9.4)\n",
      "Requirement already satisfied: soupsieve>1.2 in ./.venv/lib/python3.12/site-packages (from beautifulsoup4<5.0.0,>=4.12.3->llama-index-readers-web) (2.5)\n",
      "Requirement already satisfied: packaging>=23.1 in ./.venv/lib/python3.12/site-packages (from chromedriver-autoinstaller<0.7.0,>=0.6.3->llama-index-readers-web) (24.0)\n",
      "Requirement already satisfied: PyYAML>=6.0.1 in ./.venv/lib/python3.12/site-packages (from llama-index-core<0.11.0,>=0.10.1->llama-index-readers-web) (6.0.1)\n",
      "Requirement already satisfied: SQLAlchemy>=1.4.49 in ./.venv/lib/python3.12/site-packages (from SQLAlchemy[asyncio]>=1.4.49->llama-index-core<0.11.0,>=0.10.1->llama-index-readers-web) (2.0.29)\n",
      "Requirement already satisfied: dataclasses-json in ./.venv/lib/python3.12/site-packages (from llama-index-core<0.11.0,>=0.10.1->llama-index-readers-web) (0.6.5)\n",
      "Requirement already satisfied: deprecated>=1.2.9.3 in ./.venv/lib/python3.12/site-packages (from llama-index-core<0.11.0,>=0.10.1->llama-index-readers-web) (1.2.14)\n",
      "Requirement already satisfied: dirtyjson<2.0.0,>=1.0.8 in ./.venv/lib/python3.12/site-packages (from llama-index-core<0.11.0,>=0.10.1->llama-index-readers-web) (1.0.8)\n",
      "Requirement already satisfied: fsspec>=2023.5.0 in ./.venv/lib/python3.12/site-packages (from llama-index-core<0.11.0,>=0.10.1->llama-index-readers-web) (2024.3.1)\n",
      "Requirement already satisfied: httpx in ./.venv/lib/python3.12/site-packages (from llama-index-core<0.11.0,>=0.10.1->llama-index-readers-web) (0.27.0)\n",
      "Requirement already satisfied: llamaindex-py-client<0.2.0,>=0.1.18 in ./.venv/lib/python3.12/site-packages (from llama-index-core<0.11.0,>=0.10.1->llama-index-readers-web) (0.1.19)\n",
      "Requirement already satisfied: nest-asyncio<2.0.0,>=1.5.8 in ./.venv/lib/python3.12/site-packages (from llama-index-core<0.11.0,>=0.10.1->llama-index-readers-web) (1.6.0)\n",
      "Requirement already satisfied: networkx>=3.0 in ./.venv/lib/python3.12/site-packages (from llama-index-core<0.11.0,>=0.10.1->llama-index-readers-web) (3.3)\n",
      "Requirement already satisfied: nltk<4.0.0,>=3.8.1 in ./.venv/lib/python3.12/site-packages (from llama-index-core<0.11.0,>=0.10.1->llama-index-readers-web) (3.8.1)\n",
      "Requirement already satisfied: numpy in ./.venv/lib/python3.12/site-packages (from llama-index-core<0.11.0,>=0.10.1->llama-index-readers-web) (1.26.4)\n",
      "Requirement already satisfied: openai>=1.1.0 in ./.venv/lib/python3.12/site-packages (from llama-index-core<0.11.0,>=0.10.1->llama-index-readers-web) (1.25.1)\n",
      "Requirement already satisfied: pandas in ./.venv/lib/python3.12/site-packages (from llama-index-core<0.11.0,>=0.10.1->llama-index-readers-web) (2.2.2)\n",
      "Requirement already satisfied: pillow>=9.0.0 in ./.venv/lib/python3.12/site-packages (from llama-index-core<0.11.0,>=0.10.1->llama-index-readers-web) (10.3.0)\n",
      "Requirement already satisfied: tenacity<9.0.0,>=8.2.0 in ./.venv/lib/python3.12/site-packages (from llama-index-core<0.11.0,>=0.10.1->llama-index-readers-web) (8.2.3)\n",
      "Requirement already satisfied: tiktoken>=0.3.3 in ./.venv/lib/python3.12/site-packages (from llama-index-core<0.11.0,>=0.10.1->llama-index-readers-web) (0.6.0)\n",
      "Requirement already satisfied: tqdm<5.0.0,>=4.66.1 in ./.venv/lib/python3.12/site-packages (from llama-index-core<0.11.0,>=0.10.1->llama-index-readers-web) (4.66.4)\n",
      "Requirement already satisfied: typing-extensions>=4.5.0 in ./.venv/lib/python3.12/site-packages (from llama-index-core<0.11.0,>=0.10.1->llama-index-readers-web) (4.11.0)\n",
      "Requirement already satisfied: typing-inspect>=0.8.0 in ./.venv/lib/python3.12/site-packages (from llama-index-core<0.11.0,>=0.10.1->llama-index-readers-web) (0.9.0)\n",
      "Requirement already satisfied: wrapt in ./.venv/lib/python3.12/site-packages (from llama-index-core<0.11.0,>=0.10.1->llama-index-readers-web) (1.16.0)\n",
      "Requirement already satisfied: cssselect>=0.9.2 in ./.venv/lib/python3.12/site-packages (from newspaper3k<0.3.0,>=0.2.8->llama-index-readers-web) (1.2.0)\n",
      "Requirement already satisfied: lxml>=3.6.0 in ./.venv/lib/python3.12/site-packages (from newspaper3k<0.3.0,>=0.2.8->llama-index-readers-web) (5.2.1)\n",
      "Requirement already satisfied: feedparser>=5.2.1 in ./.venv/lib/python3.12/site-packages (from newspaper3k<0.3.0,>=0.2.8->llama-index-readers-web) (6.0.11)\n",
      "Requirement already satisfied: tldextract>=2.0.1 in ./.venv/lib/python3.12/site-packages (from newspaper3k<0.3.0,>=0.2.8->llama-index-readers-web) (5.1.2)\n",
      "Requirement already satisfied: feedfinder2>=0.0.4 in ./.venv/lib/python3.12/site-packages (from newspaper3k<0.3.0,>=0.2.8->llama-index-readers-web) (0.0.4)\n",
      "Requirement already satisfied: jieba3k>=0.35.1 in ./.venv/lib/python3.12/site-packages (from newspaper3k<0.3.0,>=0.2.8->llama-index-readers-web) (0.35.1)\n",
      "Requirement already satisfied: python-dateutil>=2.5.3 in ./.venv/lib/python3.12/site-packages (from newspaper3k<0.3.0,>=0.2.8->llama-index-readers-web) (2.9.0.post0)\n",
      "Requirement already satisfied: tinysegmenter==0.3 in ./.venv/lib/python3.12/site-packages (from newspaper3k<0.3.0,>=0.2.8->llama-index-readers-web) (0.3)\n",
      "Requirement already satisfied: greenlet==3.0.3 in ./.venv/lib/python3.12/site-packages (from playwright<2.0,>=1.30->llama-index-readers-web) (3.0.3)\n",
      "Requirement already satisfied: pyee==11.1.0 in ./.venv/lib/python3.12/site-packages (from playwright<2.0,>=1.30->llama-index-readers-web) (11.1.0)\n",
      "Requirement already satisfied: charset-normalizer<4,>=2 in ./.venv/lib/python3.12/site-packages (from requests<3.0.0,>=2.31.0->llama-index-readers-web) (3.3.2)\n",
      "Requirement already satisfied: idna<4,>=2.5 in ./.venv/lib/python3.12/site-packages (from requests<3.0.0,>=2.31.0->llama-index-readers-web) (3.7)\n",
      "Requirement already satisfied: certifi>=2017.4.17 in ./.venv/lib/python3.12/site-packages (from requests<3.0.0,>=2.31.0->llama-index-readers-web) (2024.2.2)\n",
      "Requirement already satisfied: trio~=0.17 in ./.venv/lib/python3.12/site-packages (from selenium<5.0.0,>=4.17.2->llama-index-readers-web) (0.25.0)\n",
      "Requirement already satisfied: trio-websocket~=0.9 in ./.venv/lib/python3.12/site-packages (from selenium<5.0.0,>=4.17.2->llama-index-readers-web) (0.11.1)\n",
      "Requirement already satisfied: six in ./.venv/lib/python3.12/site-packages (from feedfinder2>=0.0.4->newspaper3k<0.3.0,>=0.2.8->llama-index-readers-web) (1.16.0)\n",
      "Requirement already satisfied: sgmllib3k in ./.venv/lib/python3.12/site-packages (from feedparser>=5.2.1->newspaper3k<0.3.0,>=0.2.8->llama-index-readers-web) (1.0.0)\n",
      "Requirement already satisfied: pydantic>=1.10 in ./.venv/lib/python3.12/site-packages (from llamaindex-py-client<0.2.0,>=0.1.18->llama-index-core<0.11.0,>=0.10.1->llama-index-readers-web) (2.7.1)\n",
      "Requirement already satisfied: anyio in ./.venv/lib/python3.12/site-packages (from httpx->llama-index-core<0.11.0,>=0.10.1->llama-index-readers-web) (4.3.0)\n",
      "Requirement already satisfied: httpcore==1.* in ./.venv/lib/python3.12/site-packages (from httpx->llama-index-core<0.11.0,>=0.10.1->llama-index-readers-web) (1.0.5)\n",
      "Requirement already satisfied: sniffio in ./.venv/lib/python3.12/site-packages (from httpx->llama-index-core<0.11.0,>=0.10.1->llama-index-readers-web) (1.3.1)\n",
      "Requirement already satisfied: h11<0.15,>=0.13 in ./.venv/lib/python3.12/site-packages (from httpcore==1.*->httpx->llama-index-core<0.11.0,>=0.10.1->llama-index-readers-web) (0.14.0)\n",
      "Requirement already satisfied: click in ./.venv/lib/python3.12/site-packages (from nltk<4.0.0,>=3.8.1->llama-index-core<0.11.0,>=0.10.1->llama-index-readers-web) (8.1.7)\n",
      "Requirement already satisfied: joblib in ./.venv/lib/python3.12/site-packages (from nltk<4.0.0,>=3.8.1->llama-index-core<0.11.0,>=0.10.1->llama-index-readers-web) (1.4.2)\n",
      "Requirement already satisfied: regex>=2021.8.3 in ./.venv/lib/python3.12/site-packages (from nltk<4.0.0,>=3.8.1->llama-index-core<0.11.0,>=0.10.1->llama-index-readers-web) (2024.4.28)\n",
      "Requirement already satisfied: distro<2,>=1.7.0 in ./.venv/lib/python3.12/site-packages (from openai>=1.1.0->llama-index-core<0.11.0,>=0.10.1->llama-index-readers-web) (1.9.0)\n",
      "Requirement already satisfied: requests-file>=1.4 in ./.venv/lib/python3.12/site-packages (from tldextract>=2.0.1->newspaper3k<0.3.0,>=0.2.8->llama-index-readers-web) (2.0.0)\n",
      "Requirement already satisfied: filelock>=3.0.8 in ./.venv/lib/python3.12/site-packages (from tldextract>=2.0.1->newspaper3k<0.3.0,>=0.2.8->llama-index-readers-web) (3.14.0)\n",
      "Requirement already satisfied: sortedcontainers in ./.venv/lib/python3.12/site-packages (from trio~=0.17->selenium<5.0.0,>=4.17.2->llama-index-readers-web) (2.4.0)\n",
      "Requirement already satisfied: outcome in ./.venv/lib/python3.12/site-packages (from trio~=0.17->selenium<5.0.0,>=4.17.2->llama-index-readers-web) (1.3.0.post0)\n",
      "Requirement already satisfied: wsproto>=0.14 in ./.venv/lib/python3.12/site-packages (from trio-websocket~=0.9->selenium<5.0.0,>=4.17.2->llama-index-readers-web) (1.2.0)\n",
      "Requirement already satisfied: mypy-extensions>=0.3.0 in ./.venv/lib/python3.12/site-packages (from typing-inspect>=0.8.0->llama-index-core<0.11.0,>=0.10.1->llama-index-readers-web) (1.0.0)\n",
      "Requirement already satisfied: pysocks!=1.5.7,<2.0,>=1.5.6 in ./.venv/lib/python3.12/site-packages (from urllib3[socks]<3,>=1.26->selenium<5.0.0,>=4.17.2->llama-index-readers-web) (1.7.1)\n",
      "Requirement already satisfied: marshmallow<4.0.0,>=3.18.0 in ./.venv/lib/python3.12/site-packages (from dataclasses-json->llama-index-core<0.11.0,>=0.10.1->llama-index-readers-web) (3.21.2)\n",
      "Requirement already satisfied: pytz>=2020.1 in ./.venv/lib/python3.12/site-packages (from pandas->llama-index-core<0.11.0,>=0.10.1->llama-index-readers-web) (2024.1)\n",
      "Requirement already satisfied: tzdata>=2022.7 in ./.venv/lib/python3.12/site-packages (from pandas->llama-index-core<0.11.0,>=0.10.1->llama-index-readers-web) (2024.1)\n",
      "Requirement already satisfied: annotated-types>=0.4.0 in ./.venv/lib/python3.12/site-packages (from pydantic>=1.10->llamaindex-py-client<0.2.0,>=0.1.18->llama-index-core<0.11.0,>=0.10.1->llama-index-readers-web) (0.6.0)\n",
      "Requirement already satisfied: pydantic-core==2.18.2 in ./.venv/lib/python3.12/site-packages (from pydantic>=1.10->llamaindex-py-client<0.2.0,>=0.1.18->llama-index-core<0.11.0,>=0.10.1->llama-index-readers-web) (2.18.2)\n"
     ]
    }
   ],
   "source": [
    "!pip install llama-index-readers-web"
   ]
  },
  {
   "cell_type": "code",
   "execution_count": 4,
   "id": "8e935d36-275f-4354-ace3-9753f3a85473",
   "metadata": {},
   "outputs": [
    {
     "name": "stdout",
     "output_type": "stream",
     "text": [
      "Requirement already satisfied: requests in ./.venv/lib/python3.12/site-packages (2.32.3)\n",
      "Requirement already satisfied: charset-normalizer<4,>=2 in ./.venv/lib/python3.12/site-packages (from requests) (3.3.2)\n",
      "Requirement already satisfied: idna<4,>=2.5 in ./.venv/lib/python3.12/site-packages (from requests) (3.7)\n",
      "Requirement already satisfied: urllib3<3,>=1.21.1 in ./.venv/lib/python3.12/site-packages (from requests) (2.2.1)\n",
      "Requirement already satisfied: certifi>=2017.4.17 in ./.venv/lib/python3.12/site-packages (from requests) (2024.2.2)\n"
     ]
    }
   ],
   "source": [
    "!pip install requests"
   ]
  },
  {
   "cell_type": "code",
   "execution_count": 5,
   "id": "8529af04-1b62-440d-822d-6cc0cc2cc6bd",
   "metadata": {},
   "outputs": [],
   "source": [
    "import os\n",
    "from llama_index.readers.web import SimpleWebPageReader\n",
    "from llama_index.core import PromptTemplate\n",
    "from llama_index.llms.openai import OpenAI\n",
    "\n",
    "from pycolbertdb.client import Colbertdb\n",
    "\n",
    "from pycolbertdb.helpers import from_llama_index_documents"
   ]
  },
  {
   "cell_type": "code",
   "execution_count": 6,
   "id": "45d46536-a674-4d8a-b54b-a8dc1789bd5d",
   "metadata": {},
   "outputs": [],
   "source": [
    "URL = os.getenv(\"COLBERTDB_URL\")\n",
    "API_KEY = os.getenv(\"COLBERTDB_API_KEY\")\n",
    "STORE_NAME = os.getenv(\"COLBERTDB_STORE_NAME\")\n",
    "OPEN_AI_KEY = os.getenv(\"COLBERTDB_OPEN_AI_KEY\")\n",
    "URLS = ['https://en.wikipedia.org/wiki/Onigiri']"
   ]
  },
  {
   "cell_type": "code",
   "execution_count": 7,
   "id": "745ee108-ec05-45a1-a0df-7b80e1815cac",
   "metadata": {},
   "outputs": [],
   "source": [
    "client = Colbertdb(url=URL, api_key=API_KEY, store_name=STORE_NAME)\n",
    "open_ai_client = OpenAI(model=\"gpt-4-turbo\", api_key=OPEN_AI_KEY)\n",
    "\n",
    "qa_prompt_tmpl_str = \"\"\"\\\n",
    "Context information is below.\n",
    "---------------------\n",
    "{context_str}\n",
    "---------------------\n",
    "Given the context information and not prior knowledge, answer the query.\n",
    "Please write the answer in the style of {tone_name}\n",
    "Query: {query_str}\n",
    "Answer: \\\n",
    "\"\"\"\n",
    "\n",
    "prompt_tmpl = PromptTemplate(qa_prompt_tmpl_str)"
   ]
  },
  {
   "cell_type": "code",
   "execution_count": 8,
   "id": "24f1558c-96f0-4fd5-aedd-f20313b9e219",
   "metadata": {},
   "outputs": [],
   "source": [
    "docs = from_llama_index_documents(SimpleWebPageReader(html_to_text=True).load_data(URLS))"
   ]
  },
  {
   "cell_type": "code",
   "execution_count": 9,
   "id": "c8a98ab0-d6d6-43fd-bc9f-be9e6b1b971d",
   "metadata": {},
   "outputs": [],
   "source": [
    "collection = client.create_collection(documents=docs, name='rice_ball_facts', options={'force_create': True})"
   ]
  },
  {
   "cell_type": "code",
   "execution_count": 10,
   "id": "ae3ef402-34ad-4d0e-b56d-125bdc2573a7",
   "metadata": {},
   "outputs": [],
   "source": [
    "result = collection.search(query=\"What are some popular fillings for onigiri?\", k=3)"
   ]
  },
  {
   "cell_type": "code",
   "execution_count": 11,
   "id": "33960b44-bf0c-4439-84c9-51f8114f6f14",
   "metadata": {},
   "outputs": [
    {
     "name": "stdout",
     "output_type": "stream",
     "text": [
      "Source: https://en.wikipedia.org/wiki/Onigiri\n",
      " Generally, onigiri made with pre-\n",
      "seasoned rice is not filled with ingredients. Plain (salt only) onigiri is\n",
      "called _shio-musubi_.\n",
      "\n",
      "Typical fillings are listed below:\n",
      "\n",
      "  * Dressed dishes: tuna with mayonnaise (シーチキン), shrimp with mayonnaise, [negitoro](/wiki/Negitoro \"Negitoro\") (ネギトロ), etc.\n",
      "  * Dried fish: roasted and crumbled [mackerel](/wiki/Mackerel_as_food \"Mackerel as food\") (鯖), [Japanese horse mackerel](/wiki/Japanese_horse_mackerel \"Japanese horse mackerel\") (鰺), etc.\n",
      "  * [Kakuni](/wiki/Kakuni \"Kakuni\"): [dongpo pork](/wiki/Dongpo_pork \"Dongpo pork\")\n",
      "  * [Dried food](/wiki/Drying_\\(food\\) \"Drying \\(food\\)\"): [okaka](/wiki/Katsuobushi \"Katsuobushi\"), etc.\n",
      "Source: https://en.wikipedia.org/wiki/Onigiri\n",
      " Because it is easily portable and eaten by hand, onigiri has been\n",
      "used as portable food or [bento](/wiki/Bento \"Bento\") from ancient times to\n",
      "the present day. Originally, it was used as a way to use and store left-over\n",
      "rice, but it later became a regular meal. Many Japanese [convenience\n",
      "stores](/wiki/Convenience_store \"Convenience store\") and supermarkets stock\n",
      "their onigiri with various fillings and flavors. It has become so mainstream\n",
      "that it is even served in [izakayas](/wiki/Izakaya \"Izakaya\") and sit-down\n",
      "restaurants. There are even specialized shops which only sell onigiri to [take\n",
      "out](/wiki/Take-out \"Take-out\"). Due to the popularity of this trend in Japan,\n",
      "onigiri has become a popular staple in Japanese restaurants worldwide.\n",
      "Source: https://en.wikipedia.org/wiki/Onigiri\n",
      " Because of the oil, the flavor is richer than yaki-onigiri. If\n",
      "eating it as is, it can be seasoned with soy sauce, miso, or salt.\n",
      "\n",
      "To eat it in a soup, first place it in a bowl. Add condiments such as chives,\n",
      "[miyakogusa](/wiki/Lotus_japonicus \"Lotus japonicus\"), wasabi, grated ginger,\n",
      "[nori](/wiki/Nori \"Nori\"), [pickled plum](/wiki/Umeboshi \"Umeboshi\"), and pour\n",
      "hot Japanese-style soup stock. Eat while breaking up the onigiri that have\n",
      "absorbed the soup stock.\n",
      "\n",
      "There are several variations of the age-onigiri. For example, there is a\n",
      "version where the rice being fried has Japanese flavoring, such as takikomi\n",
      "gohan. There is also a Western style variation where melted cheese is used as\n",
      "the filling, the rice is deep-fried with western ingredients such as ketchup\n",
      "and curry, and the onigiri is topped with a western-style soup.\n"
     ]
    }
   ],
   "source": [
    "context = ''\n",
    "for document in result.documents:\n",
    "    print(\"Source: \"+ document.metadata['source']+\"\\n\", document.content)\n",
    "    context += (document.content + \"\\n\\n\")"
   ]
  },
  {
   "cell_type": "code",
   "execution_count": 12,
   "id": "a1c5ced3-ed69-431d-922b-2a9a498c5fd0",
   "metadata": {},
   "outputs": [
    {
     "data": {
      "text/plain": [
       "CompletionResponse(text=\"Lo, hear me speak of onigiri's heart, where flavors rich and varied start:\\nDressed dishes doth their charm impart with tuna mixed with creamy art,\\nAnd shrimp that swims in mayonnaise, negitoro in its zesty ways.\\n\\nDried fish, too, a tale to tell, of mackerel's smoke and horse mackerel's swell,\\nEach crumbled o'er the rice so well, a story in each bite doth dwell.\\n\\nKakuni, with its pork so sweet, in dongpo's style, a savory treat,\\nAnd dried delights, not to forget, okaka's dance of flavors met.\\n\\nThese fillings all, in rice ensconced, by hands adept are deftly launched\\nInto the mouths of those who yearn for onigiri at every turn.\", additional_kwargs={}, raw={'id': 'chatcmpl-9WRnhWVBPIpCI5ygXpFWXLlXPLA5b', 'choices': [Choice(finish_reason='stop', index=0, logprobs=None, message=ChatCompletionMessage(content=\"Lo, hear me speak of onigiri's heart, where flavors rich and varied start:\\nDressed dishes doth their charm impart with tuna mixed with creamy art,\\nAnd shrimp that swims in mayonnaise, negitoro in its zesty ways.\\n\\nDried fish, too, a tale to tell, of mackerel's smoke and horse mackerel's swell,\\nEach crumbled o'er the rice so well, a story in each bite doth dwell.\\n\\nKakuni, with its pork so sweet, in dongpo's style, a savory treat,\\nAnd dried delights, not to forget, okaka's dance of flavors met.\\n\\nThese fillings all, in rice ensconced, by hands adept are deftly launched\\nInto the mouths of those who yearn for onigiri at every turn.\", role='assistant', function_call=None, tool_calls=None))], 'created': 1717520389, 'model': 'gpt-4-turbo-2024-04-09', 'object': 'chat.completion', 'system_fingerprint': 'fp_31a6c0accf', 'usage': CompletionUsage(completion_tokens=168, prompt_tokens=700, total_tokens=868)}, logprobs=None, delta=None)"
      ]
     },
     "execution_count": 12,
     "metadata": {},
     "output_type": "execute_result"
    }
   ],
   "source": [
    "prompt = prompt_tmpl.format(context_str=context, tone_name=\"shakespeare\", query_str=\"What are some typical onigiri fillings\")\n",
    "open_ai_client.complete(prompt)"
   ]
  },
  {
   "cell_type": "code",
   "execution_count": 13,
   "id": "512b69df-f026-4c4e-b2a8-f55dbd2b0f63",
   "metadata": {},
   "outputs": [],
   "source": [
    "new_docs = SimpleWebPageReader(html_to_text=True).load_data([\"https://en.wikipedia.org/wiki/Kewpie_(mayonnaise)\"])\n",
    "new_formatted = [{\"content\": doc.text, \"metadata\": {\"source\": doc.id_}} for doc in new_docs[0:2]]"
   ]
  },
  {
   "cell_type": "code",
   "execution_count": 14,
   "id": "98b081a2-4fdb-4baf-b440-934374d82264",
   "metadata": {},
   "outputs": [],
   "source": [
    "collection = collection.add_documents(documents=new_formatted)"
   ]
  },
  {
   "cell_type": "code",
   "execution_count": 15,
   "id": "c18758bb-938e-4541-b99c-cecf491bcd53",
   "metadata": {},
   "outputs": [
    {
     "name": "stdout",
     "output_type": "stream",
     "text": [
      "Source: https://en.wikipedia.org/wiki/Kewpie_(mayonnaise)\n",
      " Ltd. _食品工業株式会社_ was founded in [Nakano,\n",
      "Tokyo](/wiki/Nakano,_Tokyo \"Nakano, Tokyo\") in 1919 by Toichiro Nakashima.[2]\n",
      "He had previously worked in the United States for three years as an intern for\n",
      "the [Ministry of Agriculture and\n",
      "Commerce](/wiki/Ministry_of_Agriculture_and_Commerce \"Ministry of Agriculture\n",
      "and Commerce\"), where he first encountered mayonnaise and the [Kewpie\n",
      "doll](/wiki/Kewpie_doll \"Kewpie doll\") that became his emblem.[3] Originally,\n",
      "his business distributed canned salmon.[2] Mayonnaise production began in\n",
      "1925,[4] and it has been the best selling brand of mayonnaise in Japan ever\n",
      "since.[5] The company is now called the Kewpie Corp. The company stopped\n",
      "production of mayonnaise during World War II because of supply shortages, and\n",
      "resumed production in 1948.\n",
      "Source: https://en.wikipedia.org/wiki/Kewpie_(mayonnaise)\n",
      " Kewpie is the best selling mayonnaise in Japan,[1] and is also sold\n",
      "in other countries.\n",
      "\n",
      "##\n",
      "History[[edit](/w/index.php?title=Kewpie_\\(mayonnaise\\)&action=edit&section=1\n",
      "\"Edit section: History\")]\n",
      "\n",
      "[![](//upload.wikimedia.org/wikipedia/commons/thumb/9/98/Toichiro_Nakajima.jpg/220px-\n",
      "Toichiro_Nakajima.jpg)](/wiki/File:Toichiro_Nakajima.jpg)Toichiro Nakashima in\n",
      "1967\n",
      "\n",
      "Shokuhin Kogyo Co. Ltd. _食品工業株式会社_ was founded in [Nakano,\n",
      "Tokyo](/wiki/Nakano,_Tokyo \"Nakano, Tokyo\") in 1919 by Toichiro Nakashima.\n",
      "Source: https://en.wikipedia.org/wiki/Kewpie_(mayonnaise)\n",
      " wikimedia.org/wiki/Category:Kewpie_Corporation)\n",
      "\n",
      "From Wikipedia, the free encyclopedia\n",
      "\n",
      "Japanese mayonnaise brand\n",
      "\n",
      "Kewpie[![](//upload.wikimedia.org/wikipedia/commons/thumb/1/10/2016_0529_Kewpie_mayonnaise_NL.jpg/220px-2016_0529_Kewpie_mayonnaise_NL.jpg)](/wiki/File:2016_0529_Kewpie_mayonnaise_NL.jpg)  \n",
      "---  \n",
      "Product type| [Mayonnaise](/wiki/Mayonnaise \"Mayonnaise\")  \n",
      "Country| Japan  \n",
      "Introduced| 1925; 99 years ago (1925)  \n",
      "Website| [www.kewpie.com/en/](https://www.kewpie.com/en/)  \n",
      "  \n",
      "**Kewpie** (キユーピー, _spelling kiyūpī, pronunciation kyūpī_ )—often misspelled\n",
      "_kyūpī_ (キューピー) according to the pronunciation—is a Japanese brand of\n",
      "[mayonnaise](/wiki/Mayonnaise \"Mayonnaise\"), and the name of the company that\n",
      "makes it.\n"
     ]
    }
   ],
   "source": [
    "new_result = collection.search(query=\"When was kewpie mayo founded?\", k=3)\n",
    "new_context = ''\n",
    "for document in new_result.documents:\n",
    "    print(\"Source: \"+ document.metadata['source']+\"\\n\", document.content)\n",
    "    new_context += (document.content + \"\\n\\n\")"
   ]
  },
  {
   "cell_type": "code",
   "execution_count": 16,
   "id": "b0910fa9-f887-4086-ac39-37a8f90ce5e8",
   "metadata": {},
   "outputs": [
    {
     "data": {
      "text/plain": [
       "CompletionResponse(text=\"Well, let me take you back to the year 1919, in the heart of Nakano, Tokyo. That's where and when the story of Kewpie mayo began, all thanks to a fella named Toichiro Nakashima. He started it all, bringing that smooth, creamy taste right into the heart of Japan.\", additional_kwargs={}, raw={'id': 'chatcmpl-9WRnrTIFm3axzXKRQrIdCoINa78Iu', 'choices': [Choice(finish_reason='stop', index=0, logprobs=None, message=ChatCompletionMessage(content=\"Well, let me take you back to the year 1919, in the heart of Nakano, Tokyo. That's where and when the story of Kewpie mayo began, all thanks to a fella named Toichiro Nakashima. He started it all, bringing that smooth, creamy taste right into the heart of Japan.\", role='assistant', function_call=None, tool_calls=None))], 'created': 1717520399, 'model': 'gpt-4-turbo-2024-04-09', 'object': 'chat.completion', 'system_fingerprint': 'fp_31a6c0accf', 'usage': CompletionUsage(completion_tokens=69, prompt_tokens=710, total_tokens=779)}, logprobs=None, delta=None)"
      ]
     },
     "execution_count": 16,
     "metadata": {},
     "output_type": "execute_result"
    }
   ],
   "source": [
    "prompt = prompt_tmpl.format(context_str=new_context, tone_name=\"bruce springsteen\", query_str=\"When and where was kewpie mayo founded\")\n",
    "open_ai_client.complete(prompt)"
   ]
  },
  {
   "cell_type": "code",
   "execution_count": null,
   "id": "a5fcb02c-418c-4655-b840-0e1b80d519fe",
   "metadata": {},
   "outputs": [],
   "source": []
  }
 ],
 "metadata": {
  "kernelspec": {
   "display_name": "Python 3 (ipykernel)",
   "language": "python",
   "name": "python3"
  },
  "language_info": {
   "codemirror_mode": {
    "name": "ipython",
    "version": 3
   },
   "file_extension": ".py",
   "mimetype": "text/x-python",
   "name": "python",
   "nbconvert_exporter": "python",
   "pygments_lexer": "ipython3",
   "version": "3.12.3"
  }
 },
 "nbformat": 4,
 "nbformat_minor": 5
}
